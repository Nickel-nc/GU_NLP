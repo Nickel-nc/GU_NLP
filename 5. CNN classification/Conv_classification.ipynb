{
 "cells": [
  {
   "cell_type": "markdown",
   "metadata": {},
   "source": [
    "## Dataset: отзывы о приложении (`'Ru'`)"
   ]
  },
  {
   "cell_type": "markdown",
   "metadata": {},
   "source": [
    "Задание из 2-х частей.\n",
    "Берем отызывы за лето\n",
    "1. Учим conv сеть для классификации - выбить auc выше 0.95\n",
    "2. Предобучаем word2vec и его эмбединга инициализируем сетку, как влияет на качество?"
   ]
  },
  {
   "cell_type": "code",
   "execution_count": 1,
   "metadata": {},
   "outputs": [
    {
     "name": "stderr",
     "output_type": "stream",
     "text": [
      "Using TensorFlow backend.\n"
     ]
    }
   ],
   "source": [
    "import pandas as pd\n",
    "import numpy as np\n",
    "import seaborn as sns\n",
    "from matplotlib import pyplot as plt\n",
    "import datetime\n",
    "from stop_words import get_stop_words\n",
    "from string import punctuation\n",
    "from pymorphy2 import MorphAnalyzer\n",
    "from nltk.tokenize import word_tokenize\n",
    "import regex as re\n",
    "from sklearn.model_selection import train_test_split\n",
    "from sklearn.metrics import roc_auc_score\n",
    "from nltk.probability import FreqDist\n",
    "import keras\n",
    "from keras.models import Sequential, Model\n",
    "from keras.layers import Dense, Dropout, Activation, Input, Embedding, Conv1D, GlobalMaxPool1D\n",
    "from keras.preprocessing.text import Tokenizer\n",
    "from keras.preprocessing.sequence import pad_sequences\n",
    "from keras.callbacks import TensorBoard \n",
    "from keras.objectives import categorical_crossentropy\n",
    "from keras.callbacks import EarlyStopping \n",
    "from gensim.models import Word2Vec\n",
    "import multiprocessing"
   ]
  },
  {
   "cell_type": "code",
   "execution_count": 2,
   "metadata": {},
   "outputs": [],
   "source": [
    "seed = 42\n",
    "max_words = 2000\n",
    "max_len = 50\n",
    "# Training\n",
    "epochs = 20\n",
    "batch_size = 4096\n",
    "vec_len = 10\n",
    "\n",
    "sw = set(get_stop_words(\"ru\"))\n",
    "exclude = set(punctuation)\n",
    "morpher = MorphAnalyzer()\n",
    "\n",
    "data = pd.read_excel('data/отзывы за лето.xls', parse_dates=[2])\n",
    "\n",
    "TARGET = 'target'\n",
    "PROCESSED = 'preprocessed'"
   ]
  },
  {
   "cell_type": "code",
   "execution_count": 3,
   "metadata": {},
   "outputs": [
    {
     "data": {
      "text/html": [
       "<div>\n",
       "<style scoped>\n",
       "    .dataframe tbody tr th:only-of-type {\n",
       "        vertical-align: middle;\n",
       "    }\n",
       "\n",
       "    .dataframe tbody tr th {\n",
       "        vertical-align: top;\n",
       "    }\n",
       "\n",
       "    .dataframe thead th {\n",
       "        text-align: right;\n",
       "    }\n",
       "</style>\n",
       "<table border=\"1\" class=\"dataframe\">\n",
       "  <thead>\n",
       "    <tr style=\"text-align: right;\">\n",
       "      <th></th>\n",
       "      <th>Rating</th>\n",
       "      <th>Content</th>\n",
       "      <th>Date</th>\n",
       "    </tr>\n",
       "  </thead>\n",
       "  <tbody>\n",
       "    <tr>\n",
       "      <th>0</th>\n",
       "      <td>5</td>\n",
       "      <td>It just works!</td>\n",
       "      <td>2017-08-14</td>\n",
       "    </tr>\n",
       "    <tr>\n",
       "      <th>1</th>\n",
       "      <td>4</td>\n",
       "      <td>В целом удобноное приложение...из минусов хотя...</td>\n",
       "      <td>2017-08-14</td>\n",
       "    </tr>\n",
       "    <tr>\n",
       "      <th>2</th>\n",
       "      <td>5</td>\n",
       "      <td>Отлично все</td>\n",
       "      <td>2017-08-14</td>\n",
       "    </tr>\n",
       "    <tr>\n",
       "      <th>3</th>\n",
       "      <td>5</td>\n",
       "      <td>Стал зависать на 1% работы антивируса. Дальше ...</td>\n",
       "      <td>2017-08-14</td>\n",
       "    </tr>\n",
       "    <tr>\n",
       "      <th>4</th>\n",
       "      <td>5</td>\n",
       "      <td>Очень удобно, работает быстро.</td>\n",
       "      <td>2017-08-14</td>\n",
       "    </tr>\n",
       "    <tr>\n",
       "      <th>...</th>\n",
       "      <td>...</td>\n",
       "      <td>...</td>\n",
       "      <td>...</td>\n",
       "    </tr>\n",
       "    <tr>\n",
       "      <th>20654</th>\n",
       "      <td>1</td>\n",
       "      <td>Ну и шляпа,с роот правами бесполезная прога,ра...</td>\n",
       "      <td>2017-06-01</td>\n",
       "    </tr>\n",
       "    <tr>\n",
       "      <th>20655</th>\n",
       "      <td>5</td>\n",
       "      <td>Ок</td>\n",
       "      <td>2017-06-01</td>\n",
       "    </tr>\n",
       "    <tr>\n",
       "      <th>20656</th>\n",
       "      <td>4</td>\n",
       "      <td>Доволен</td>\n",
       "      <td>2017-06-01</td>\n",
       "    </tr>\n",
       "    <tr>\n",
       "      <th>20657</th>\n",
       "      <td>1</td>\n",
       "      <td>Песопаснасть, рут ни нужын</td>\n",
       "      <td>2017-06-01</td>\n",
       "    </tr>\n",
       "    <tr>\n",
       "      <th>20658</th>\n",
       "      <td>5</td>\n",
       "      <td>Сбербанк бомбовая компания на сегодняшний день...</td>\n",
       "      <td>2017-06-01</td>\n",
       "    </tr>\n",
       "  </tbody>\n",
       "</table>\n",
       "<p>20659 rows × 3 columns</p>\n",
       "</div>"
      ],
      "text/plain": [
       "       Rating                                            Content       Date\n",
       "0           5                                     It just works! 2017-08-14\n",
       "1           4  В целом удобноное приложение...из минусов хотя... 2017-08-14\n",
       "2           5                                        Отлично все 2017-08-14\n",
       "3           5  Стал зависать на 1% работы антивируса. Дальше ... 2017-08-14\n",
       "4           5                     Очень удобно, работает быстро. 2017-08-14\n",
       "...       ...                                                ...        ...\n",
       "20654       1  Ну и шляпа,с роот правами бесполезная прога,ра... 2017-06-01\n",
       "20655       5                                                 Ок 2017-06-01\n",
       "20656       4                                            Доволен 2017-06-01\n",
       "20657       1                         Песопаснасть, рут ни нужын 2017-06-01\n",
       "20658       5  Сбербанк бомбовая компания на сегодняшний день... 2017-06-01\n",
       "\n",
       "[20659 rows x 3 columns]"
      ]
     },
     "execution_count": 3,
     "metadata": {},
     "output_type": "execute_result"
    }
   ],
   "source": [
    "data"
   ]
  },
  {
   "cell_type": "code",
   "execution_count": 4,
   "metadata": {},
   "outputs": [
    {
     "data": {
      "image/png": "[encoded data removed]",
      "text/plain": [
       "<Figure size 432x288 with 1 Axes>"
      ]
     },
     "metadata": {
      "needs_background": "light"
     },
     "output_type": "display_data"
    }
   ],
   "source": [
    "sns.distplot(data['Rating'], kde=False, label='Rating distribution')\n",
    "# sns.distplot(data.Date, kde=False, color='green', ax=ax[1])\n",
    "plt.show()"
   ]
  },
  {
   "cell_type": "code",
   "execution_count": 26,
   "metadata": {},
   "outputs": [],
   "source": [
    "def preprocess_text(txt):\n",
    "    \n",
    "    \"\"\"Строковый препроцессинг\"\"\"\n",
    "    \n",
    "    txt = str(txt)\n",
    "    txt = re.sub(r'( )+', \" \", re.sub(r'[^\\w\\s]', \" \", txt)).strip()\n",
    "    txt = \"\".join(c for c in txt if c not in exclude)\n",
    "    txt = txt.lower()\n",
    "    txt = [morpher.parse(word)[0].normal_form for word in txt.split() if word not in sw]\n",
    "    txt = \" \".join(txt)\n",
    "    txt = re.sub(\"\\sне\", \"не\", txt)\n",
    "    return txt\n",
    "\n",
    "def prepare_data(df: pd.DataFrame,\n",
    "                 n_classes: int,\n",
    "                 processed_field: str = PROCESSED,\n",
    "                 target_field: str = TARGET) -> pd.DataFrame:\n",
    "    \n",
    "    assert n_classes in [2,5], 'Bad Number of classes'\n",
    "    \n",
    "    print(f\"Data preparing...\", end=\"\")\n",
    "    \n",
    "    \"\"\"\n",
    "    Предобработка данных под тип классификатора\n",
    "    \"\"\"\n",
    "    \n",
    "    \n",
    "    df[processed_field] = df['Content'].apply(preprocess_text)\n",
    "    \n",
    "    if n_classes == 2:\n",
    "        df = df[df['Rating'] != 3]\n",
    "        df[target_field] = (df['Rating'] > 3).astype('uint8')\n",
    "        \n",
    "    else:\n",
    "        df[target_field] = df['Rating'] - 1\n",
    "    \n",
    "    return df\n",
    "    \n",
    "\n",
    "def get_splits(data, seed=seed):\n",
    "    \n",
    "    print(f\"Preparing splits...\", end=\"\")\n",
    "    \n",
    "    # Split dataset on 3 folds\n",
    "    train, test = train_test_split(data, test_size=0.6, shuffle=True, random_state=seed)\n",
    "    valid, test = train_test_split(test, test_size=0.5, shuffle=True, random_state=seed)\n",
    "    \n",
    "    return train, valid, test\n",
    "    \n",
    "    \n",
    "    \n",
    "def build_train_voc(df_train, processed_field=PROCESSED):\n",
    "    \n",
    "    print(f\"Organizing vocabulary:\")\n",
    "    train_corpus = \" \".join(df_train[processed_field])\n",
    "    # Get tokens from corpus\n",
    "    tokens = word_tokenize(train_corpus)\n",
    "    \n",
    "    tokens_filtered = [word for word in tokens if word.isalnum()]\n",
    "    dist = FreqDist(tokens_filtered)\n",
    "    tokens_filtered_top = [pair[0] for pair in dist.most_common(max_words-1)]\n",
    "    \n",
    "    print('Top-10 filtered tokens:')\n",
    "    print(tokens_filtered_top[:10])\n",
    "    \n",
    "    vocabulary = {v: k for k, v in dict(enumerate(tokens_filtered_top, 1)).items()}\n",
    "    \n",
    "    return vocabulary\n",
    "\n",
    "\n",
    "def text_to_sequence(text, maxlen):\n",
    "    result = []\n",
    "    tokens = word_tokenize(text.lower())\n",
    "    tokens_filtered = [word for word in tokens if word.isalnum()]\n",
    "    for word in tokens_filtered:\n",
    "        if word in vocabulary:\n",
    "            result.append(vocabulary[word])\n",
    "    padding = [0]*(maxlen-len(result))\n",
    "    return padding + result[-maxlen:]\n",
    "\n",
    "\n",
    "\n",
    "def build_model(n_classes, max_words, max_len):\n",
    "    \n",
    "    print(f\"Model Building...\", end=\"\")\n",
    "\n",
    "    model = Sequential()\n",
    "    model.add(Embedding(input_dim=max_words, output_dim=128, input_length=max_len))\n",
    "    model.add(Conv1D(128, 3))\n",
    "    model.add(Activation(\"relu\"))\n",
    "    model.add(GlobalMaxPool1D())\n",
    "    model.add(Dense(100))\n",
    "    model.add(Activation(\"relu\"))\n",
    "    model.add(Dropout(0.2))\n",
    "    model.add(Dense(n_classes))\n",
    "    model.add(Activation('softmax'))\n",
    "    \n",
    "    model.compile(loss='categorical_crossentropy',\n",
    "              optimizer='Adam',\n",
    "              metrics=['accuracy'])\n",
    "    \n",
    "    print(\"Done. Model Summary:\")\n",
    "    print(model.summary())\n",
    "    \n",
    "    return model\n",
    "\n",
    "def plot_history(history):\n",
    "    \n",
    "    fig, ax = plt.subplots(1,2, figsize=(16,4))\n",
    "\n",
    "    ax[0].plot(history.history['loss'], label='train loss')\n",
    "    ax[0].plot(history.history['val_loss'], label='validation loss')\n",
    "    ax[0].set_xlabel('Epochs')\n",
    "    ax[0].set_ylabel('Loss')\n",
    "    ax[0].legend()\n",
    "\n",
    "    ax[1].plot(history.history['accuracy'], label='train accuracy')\n",
    "    ax[1].plot(history.history['val_accuracy'], label='validation accuracy')\n",
    "    ax[1].set_xlabel('Epochs')\n",
    "    ax[1].set_ylabel('Accuracy')\n",
    "    ax[1].legend()\n",
    "\n",
    "    plt.show()"
   ]
  },
  {
   "cell_type": "markdown",
   "metadata": {},
   "source": [
    "## Модель для мультиклассовой классификации"
   ]
  },
  {
   "cell_type": "code",
   "execution_count": 27,
   "metadata": {},
   "outputs": [
    {
     "name": "stdout",
     "output_type": "stream",
     "text": [
      "Data preparing...Preparing splits...Organizing vocabulary:\n",
      "Top-10 filtered tokens:\n",
      "['приложение', 'удобно', 'работать', 'удобный', 'отлично', 'нравиться', 'отличный', 'хороший', 'супер', 'телефон']\n",
      "Train.shape: (7899, 50), Val.shape:(5924, 50), Test.shape: (5925, 50)\n"
     ]
    }
   ],
   "source": [
    "N_CLASSES = 5\n",
    "\n",
    "# Preprocess, Split\n",
    "\n",
    "data = prepare_data(df=data, n_classes=N_CLASSES)\n",
    "df_train, df_val, df_test = get_splits(data)\n",
    "vocabulary = build_train_voc(df_train, processed_field=PROCESSED)\n",
    "\n",
    "x_train = np.asarray([text_to_sequence(text, max_len) for text in df_train[\"preprocessed\"]], dtype=np.int32)\n",
    "x_test = np.asarray([text_to_sequence(text, max_len) for text in df_test[\"preprocessed\"]], dtype=np.int32)\n",
    "x_val = np.asarray([text_to_sequence(text, max_len) for text in df_val[\"preprocessed\"]], dtype=np.int32)\n",
    "print(f'Train.shape: {x_train.shape}, Val.shape:{x_val.shape}, Test.shape: {x_test.shape}')\n",
    "\n",
    "y_train = keras.utils.to_categorical(df_train[TARGET], N_CLASSES)\n",
    "y_val = keras.utils.to_categorical(df_val[TARGET], N_CLASSES)\n",
    "y_test = keras.utils.to_categorical(df_test[TARGET], N_CLASSES)\n"
   ]
  },
  {
   "cell_type": "code",
   "execution_count": 28,
   "metadata": {},
   "outputs": [
    {
     "name": "stdout",
     "output_type": "stream",
     "text": [
      "Model Building...Done. Model Summary:\n",
      "Model: \"sequential_5\"\n",
      "_________________________________________________________________\n",
      "Layer (type)                 Output Shape              Param #   \n",
      "=================================================================\n",
      "embedding_5 (Embedding)      (None, 50, 128)           256000    \n",
      "_________________________________________________________________\n",
      "conv1d_5 (Conv1D)            (None, 48, 128)           49280     \n",
      "_________________________________________________________________\n",
      "activation_13 (Activation)   (None, 48, 128)           0         \n",
      "_________________________________________________________________\n",
      "global_max_pooling1d_5 (Glob (None, 128)               0         \n",
      "_________________________________________________________________\n",
      "dense_9 (Dense)              (None, 100)               12900     \n",
      "_________________________________________________________________\n",
      "activation_14 (Activation)   (None, 100)               0         \n",
      "_________________________________________________________________\n",
      "dropout_5 (Dropout)          (None, 100)               0         \n",
      "_________________________________________________________________\n",
      "dense_10 (Dense)             (None, 5)                 505       \n",
      "_________________________________________________________________\n",
      "activation_15 (Activation)   (None, 5)                 0         \n",
      "=================================================================\n",
      "Total params: 318,685\n",
      "Trainable params: 318,685\n",
      "Non-trainable params: 0\n",
      "_________________________________________________________________\n",
      "None\n"
     ]
    }
   ],
   "source": [
    "model = build_model(n_classes=N_CLASSES, max_words=max_words, max_len=max_len)"
   ]
  },
  {
   "cell_type": "code",
   "execution_count": 29,
   "metadata": {},
   "outputs": [
    {
     "name": "stderr",
     "output_type": "stream",
     "text": [
      "C:\\Users\\Nickel\\anaconda3\\lib\\site-packages\\tensorflow_core\\python\\framework\\indexed_slices.py:433: UserWarning: Converting sparse IndexedSlices to a dense Tensor of unknown shape. This may consume a large amount of memory.\n",
      "  \"Converting sparse IndexedSlices to a dense Tensor of unknown shape. \"\n"
     ]
    },
    {
     "name": "stdout",
     "output_type": "stream",
     "text": [
      "5925/5925 [==============================] - 1s 94us/step\n"
     ]
    }
   ],
   "source": [
    "history = model.fit(x=x_train,\n",
    "                    y=y_train,\n",
    "                    batch_size=batch_size,\n",
    "                    validation_data=(x_val, y_val),\n",
    "                    epochs=epochs,\n",
    "                    verbose=0\n",
    "                    )\n",
    "\n",
    "score = model.evaluate(x_test, y_test)"
   ]
  },
  {
   "cell_type": "code",
   "execution_count": 30,
   "metadata": {},
   "outputs": [
    {
     "name": "stdout",
     "output_type": "stream",
     "text": [
      "Multiclass model score: 0.7939240336418152\n"
     ]
    }
   ],
   "source": [
    "print(f\"Multiclass model score: {score[1]}\")"
   ]
  },
  {
   "cell_type": "code",
   "execution_count": 31,
   "metadata": {},
   "outputs": [
    {
     "data": {
      "image/png": "[encoded data removed]",
      "text/plain": [
       "<Figure size 1152x288 with 2 Axes>"
      ]
     },
     "metadata": {
      "needs_background": "light"
     },
     "output_type": "display_data"
    }
   ],
   "source": [
    "plot_history(history)"
   ]
  },
  {
   "cell_type": "markdown",
   "metadata": {},
   "source": [
    "## Модель для бинарной классификации"
   ]
  },
  {
   "cell_type": "code",
   "execution_count": 32,
   "metadata": {
    "scrolled": true
   },
   "outputs": [
    {
     "name": "stdout",
     "output_type": "stream",
     "text": [
      "Data preparing...Preparing splits...Organizing vocabulary:\n",
      "Top-10 filtered tokens:\n",
      "['приложение', 'удобно', 'работать', 'удобный', 'отлично', 'нравиться', 'отличный', 'хороший', 'супер', 'телефон']\n",
      "Train.shape: (7899, 50), Val.shape:(5924, 50), Test.shape: (5925, 50)\n"
     ]
    }
   ],
   "source": [
    "N_CLASSES = 2\n",
    "\n",
    "# Preprocess, Split\n",
    "\n",
    "data = prepare_data(df=data, n_classes=N_CLASSES)\n",
    "df_train, df_val, df_test = get_splits(data)\n",
    "vocabulary = build_train_voc(df_train, processed_field=PROCESSED)\n",
    "\n",
    "x_train = np.asarray([text_to_sequence(text, max_len) for text in df_train[\"preprocessed\"]], dtype=np.int32)\n",
    "x_test = np.asarray([text_to_sequence(text, max_len) for text in df_test[\"preprocessed\"]], dtype=np.int32)\n",
    "x_val = np.asarray([text_to_sequence(text, max_len) for text in df_val[\"preprocessed\"]], dtype=np.int32)\n",
    "print(f'Train.shape: {x_train.shape}, Val.shape:{x_val.shape}, Test.shape: {x_test.shape}')\n",
    "\n",
    "y_train = keras.utils.to_categorical(df_train[TARGET], N_CLASSES)\n",
    "y_val = keras.utils.to_categorical(df_val[TARGET], N_CLASSES)\n",
    "y_test = keras.utils.to_categorical(df_test[TARGET], N_CLASSES)\n"
   ]
  },
  {
   "cell_type": "code",
   "execution_count": 33,
   "metadata": {},
   "outputs": [
    {
     "name": "stdout",
     "output_type": "stream",
     "text": [
      "Model Building...Done. Model Summary:\n",
      "Model: \"sequential_6\"\n",
      "_________________________________________________________________\n",
      "Layer (type)                 Output Shape              Param #   \n",
      "=================================================================\n",
      "embedding_6 (Embedding)      (None, 50, 128)           256000    \n",
      "_________________________________________________________________\n",
      "conv1d_6 (Conv1D)            (None, 48, 128)           49280     \n",
      "_________________________________________________________________\n",
      "activation_16 (Activation)   (None, 48, 128)           0         \n",
      "_________________________________________________________________\n",
      "global_max_pooling1d_6 (Glob (None, 128)               0         \n",
      "_________________________________________________________________\n",
      "dense_11 (Dense)             (None, 100)               12900     \n",
      "_________________________________________________________________\n",
      "activation_17 (Activation)   (None, 100)               0         \n",
      "_________________________________________________________________\n",
      "dropout_6 (Dropout)          (None, 100)               0         \n",
      "_________________________________________________________________\n",
      "dense_12 (Dense)             (None, 2)                 202       \n",
      "_________________________________________________________________\n",
      "activation_18 (Activation)   (None, 2)                 0         \n",
      "=================================================================\n",
      "Total params: 318,382\n",
      "Trainable params: 318,382\n",
      "Non-trainable params: 0\n",
      "_________________________________________________________________\n",
      "None\n"
     ]
    }
   ],
   "source": [
    "model = build_model(n_classes=N_CLASSES, max_words=max_words, max_len=max_len)"
   ]
  },
  {
   "cell_type": "code",
   "execution_count": 34,
   "metadata": {},
   "outputs": [
    {
     "name": "stderr",
     "output_type": "stream",
     "text": [
      "C:\\Users\\Nickel\\anaconda3\\lib\\site-packages\\tensorflow_core\\python\\framework\\indexed_slices.py:433: UserWarning: Converting sparse IndexedSlices to a dense Tensor of unknown shape. This may consume a large amount of memory.\n",
      "  \"Converting sparse IndexedSlices to a dense Tensor of unknown shape. \"\n"
     ]
    }
   ],
   "source": [
    "history = model.fit(x=x_train,\n",
    "                    y=y_train,\n",
    "                    batch_size=batch_size,\n",
    "                    validation_data=(x_val, y_val),\n",
    "                    epochs=epochs,\n",
    "                    verbose=0\n",
    "                    )"
   ]
  },
  {
   "cell_type": "code",
   "execution_count": 35,
   "metadata": {},
   "outputs": [
    {
     "name": "stdout",
     "output_type": "stream",
     "text": [
      "Test score: 0.954\n"
     ]
    }
   ],
   "source": [
    "res = model.predict(x_test)\n",
    "print(f'Test score: {round(roc_auc_score(y_test, res),3)}')"
   ]
  },
  {
   "cell_type": "code",
   "execution_count": 36,
   "metadata": {},
   "outputs": [
    {
     "data": {
      "image/png": "[encoded data removed]",
      "text/plain": [
       "<Figure size 1152x288 with 2 Axes>"
      ]
     },
     "metadata": {
      "needs_background": "light"
     },
     "output_type": "display_data"
    }
   ],
   "source": [
    "plot_history(history)"
   ]
  },
  {
   "cell_type": "markdown",
   "metadata": {},
   "source": [
    "### Тестирование на предобученных `Word2Vec` батчах"
   ]
  },
  {
   "cell_type": "code",
   "execution_count": 39,
   "metadata": {},
   "outputs": [
    {
     "data": {
      "text/html": [
       "<div>\n",
       "<style scoped>\n",
       "    .dataframe tbody tr th:only-of-type {\n",
       "        vertical-align: middle;\n",
       "    }\n",
       "\n",
       "    .dataframe tbody tr th {\n",
       "        vertical-align: top;\n",
       "    }\n",
       "\n",
       "    .dataframe thead th {\n",
       "        text-align: right;\n",
       "    }\n",
       "</style>\n",
       "<table border=\"1\" class=\"dataframe\">\n",
       "  <thead>\n",
       "    <tr style=\"text-align: right;\">\n",
       "      <th></th>\n",
       "      <th>Rating</th>\n",
       "      <th>Content</th>\n",
       "      <th>Date</th>\n",
       "      <th>preprocessed</th>\n",
       "      <th>target</th>\n",
       "    </tr>\n",
       "  </thead>\n",
       "  <tbody>\n",
       "    <tr>\n",
       "      <th>0</th>\n",
       "      <td>5</td>\n",
       "      <td>It just works!</td>\n",
       "      <td>2017-08-14</td>\n",
       "      <td>it just works</td>\n",
       "      <td>1</td>\n",
       "    </tr>\n",
       "    <tr>\n",
       "      <th>1</th>\n",
       "      <td>4</td>\n",
       "      <td>В целом удобноное приложение...из минусов хотя...</td>\n",
       "      <td>2017-08-14</td>\n",
       "      <td>целое удобноной приложение минус хотеть большо...</td>\n",
       "      <td>1</td>\n",
       "    </tr>\n",
       "    <tr>\n",
       "      <th>2</th>\n",
       "      <td>5</td>\n",
       "      <td>Отлично все</td>\n",
       "      <td>2017-08-14</td>\n",
       "      <td>отлично</td>\n",
       "      <td>1</td>\n",
       "    </tr>\n",
       "    <tr>\n",
       "      <th>3</th>\n",
       "      <td>5</td>\n",
       "      <td>Стал зависать на 1% работы антивируса. Дальше ...</td>\n",
       "      <td>2017-08-14</td>\n",
       "      <td>зависать 1 работа антивирус ранее пользоваться...</td>\n",
       "      <td>1</td>\n",
       "    </tr>\n",
       "    <tr>\n",
       "      <th>4</th>\n",
       "      <td>5</td>\n",
       "      <td>Очень удобно, работает быстро.</td>\n",
       "      <td>2017-08-14</td>\n",
       "      <td>удобно работать быстро</td>\n",
       "      <td>1</td>\n",
       "    </tr>\n",
       "    <tr>\n",
       "      <th>...</th>\n",
       "      <td>...</td>\n",
       "      <td>...</td>\n",
       "      <td>...</td>\n",
       "      <td>...</td>\n",
       "      <td>...</td>\n",
       "    </tr>\n",
       "    <tr>\n",
       "      <th>20654</th>\n",
       "      <td>1</td>\n",
       "      <td>Ну и шляпа,с роот правами бесполезная прога,ра...</td>\n",
       "      <td>2017-06-01</td>\n",
       "      <td>шляпа роот право бесполезный прога разраб охре...</td>\n",
       "      <td>0</td>\n",
       "    </tr>\n",
       "    <tr>\n",
       "      <th>20655</th>\n",
       "      <td>5</td>\n",
       "      <td>Ок</td>\n",
       "      <td>2017-06-01</td>\n",
       "      <td>ок</td>\n",
       "      <td>1</td>\n",
       "    </tr>\n",
       "    <tr>\n",
       "      <th>20656</th>\n",
       "      <td>4</td>\n",
       "      <td>Доволен</td>\n",
       "      <td>2017-06-01</td>\n",
       "      <td>довольный</td>\n",
       "      <td>1</td>\n",
       "    </tr>\n",
       "    <tr>\n",
       "      <th>20657</th>\n",
       "      <td>1</td>\n",
       "      <td>Песопаснасть, рут ни нужын</td>\n",
       "      <td>2017-06-01</td>\n",
       "      <td>песопаснасть рута нужын</td>\n",
       "      <td>0</td>\n",
       "    </tr>\n",
       "    <tr>\n",
       "      <th>20658</th>\n",
       "      <td>5</td>\n",
       "      <td>Сбербанк бомбовая компания на сегодняшний день...</td>\n",
       "      <td>2017-06-01</td>\n",
       "      <td>сбербанк бомбовый компания сегодняшний лидер б...</td>\n",
       "      <td>1</td>\n",
       "    </tr>\n",
       "  </tbody>\n",
       "</table>\n",
       "<p>19748 rows × 5 columns</p>\n",
       "</div>"
      ],
      "text/plain": [
       "       Rating                                            Content       Date  \\\n",
       "0           5                                     It just works! 2017-08-14   \n",
       "1           4  В целом удобноное приложение...из минусов хотя... 2017-08-14   \n",
       "2           5                                        Отлично все 2017-08-14   \n",
       "3           5  Стал зависать на 1% работы антивируса. Дальше ... 2017-08-14   \n",
       "4           5                     Очень удобно, работает быстро. 2017-08-14   \n",
       "...       ...                                                ...        ...   \n",
       "20654       1  Ну и шляпа,с роот правами бесполезная прога,ра... 2017-06-01   \n",
       "20655       5                                                 Ок 2017-06-01   \n",
       "20656       4                                            Доволен 2017-06-01   \n",
       "20657       1                         Песопаснасть, рут ни нужын 2017-06-01   \n",
       "20658       5  Сбербанк бомбовая компания на сегодняшний день... 2017-06-01   \n",
       "\n",
       "                                            preprocessed  target  \n",
       "0                                          it just works       1  \n",
       "1      целое удобноной приложение минус хотеть большо...       1  \n",
       "2                                                отлично       1  \n",
       "3      зависать 1 работа антивирус ранее пользоваться...       1  \n",
       "4                                 удобно работать быстро       1  \n",
       "...                                                  ...     ...  \n",
       "20654  шляпа роот право бесполезный прога разраб охре...       0  \n",
       "20655                                                 ок       1  \n",
       "20656                                          довольный       1  \n",
       "20657                            песопаснасть рута нужын       0  \n",
       "20658  сбербанк бомбовый компания сегодняшний лидер б...       1  \n",
       "\n",
       "[19748 rows x 5 columns]"
      ]
     },
     "execution_count": 39,
     "metadata": {},
     "output_type": "execute_result"
    }
   ],
   "source": [
    "data"
   ]
  },
  {
   "cell_type": "code",
   "execution_count": 37,
   "metadata": {},
   "outputs": [
    {
     "data": {
      "text/plain": [
       "[['it just works'],\n",
       " ['целое удобноной приложение минус хотеть большой доступ персональный данные телефон приходиться пользоваться ограниченный режим'],\n",
       " ['отлично'],\n",
       " ['зависать 1 работа антивирус ранее пользоваться нормальный'],\n",
       " ['удобно работать быстро'],\n",
       " ['удобно норма'],\n",
       " ['удобный приложение'],\n",
       " ['устраивать'],\n",
       " ['работать чётко отличие банкомат вечно зависать тупить'],\n",
       " ['']]"
      ]
     },
     "execution_count": 37,
     "metadata": {},
     "output_type": "execute_result"
    }
   ],
   "source": [
    "sentences_list_of_lists = [[sentence] for sentence in data[PROCESSED].tolist()]\n",
    "sentences_list_of_lists[:10]"
   ]
  },
  {
   "cell_type": "code",
   "execution_count": 41,
   "metadata": {},
   "outputs": [],
   "source": [
    "modelW2V = Word2Vec(sentences=sentences_list_of_lists,\n",
    "                    size=vec_len,\n",
    "                    window=10,\n",
    "                    min_count=2,\n",
    "                    workers=multiprocessing.cpu_count())"
   ]
  },
  {
   "cell_type": "code",
   "execution_count": 42,
   "metadata": {},
   "outputs": [
    {
     "data": {
      "text/plain": [
       "array([[0.5852249 , 0.47988751, 0.50803219, ..., 0.15237008, 0.49394678,\n",
       "        0.20456343],\n",
       "       [0.9582345 , 0.01692625, 0.27341212, ..., 0.76441171, 0.59161847,\n",
       "        0.07908862],\n",
       "       [0.41774108, 0.51146139, 0.20223919, ..., 0.76721973, 0.17734061,\n",
       "        0.14131649],\n",
       "       ...,\n",
       "       [0.71445957, 0.8872586 , 0.03257733, ..., 0.13945237, 0.18620286,\n",
       "        0.43093534],\n",
       "       [0.77041622, 0.34916656, 0.86263349, ..., 0.23045837, 0.42239291,\n",
       "        0.71052651],\n",
       "       [0.92823161, 0.48201719, 0.29751142, ..., 0.27921628, 0.45845356,\n",
       "        0.0608051 ]])"
      ]
     },
     "execution_count": 42,
     "metadata": {},
     "output_type": "execute_result"
    }
   ],
   "source": [
    "buffer = np.random.random((max_words, vec_len))\n",
    "buffer"
   ]
  },
  {
   "cell_type": "code",
   "execution_count": 43,
   "metadata": {},
   "outputs": [],
   "source": [
    "for word in vocabulary:\n",
    "    if word in modelW2V.wv:\n",
    "#         print(word, modelW2V.wv[word])\n",
    "        buffer[vocabulary[word]] = modelW2V.wv[word]"
   ]
  },
  {
   "cell_type": "code",
   "execution_count": 69,
   "metadata": {},
   "outputs": [],
   "source": [
    "model = Sequential()\n",
    "model.add(Embedding(input_dim=max_words, output_dim=vec_len, weights=[buffer], input_length=max_len))\n",
    "model.add(Conv1D(128, 3))\n",
    "model.add(Activation(\"relu\"))\n",
    "model.add(GlobalMaxPool1D())\n",
    "model.add(Dense(100))\n",
    "model.add(Activation(\"relu\"))\n",
    "model.add(Dropout(0.2))\n",
    "model.add(Dense(N_CLASSES))\n",
    "model.add(Activation('softmax'))"
   ]
  },
  {
   "cell_type": "code",
   "execution_count": 70,
   "metadata": {},
   "outputs": [],
   "source": [
    "model.compile(loss='categorical_crossentropy',\n",
    "              optimizer='adam',\n",
    "              metrics=['accuracy'])"
   ]
  },
  {
   "cell_type": "code",
   "execution_count": 71,
   "metadata": {},
   "outputs": [
    {
     "name": "stderr",
     "output_type": "stream",
     "text": [
      "C:\\Users\\Nickel\\anaconda3\\lib\\site-packages\\tensorflow_core\\python\\framework\\indexed_slices.py:433: UserWarning: Converting sparse IndexedSlices to a dense Tensor of unknown shape. This may consume a large amount of memory.\n",
      "  \"Converting sparse IndexedSlices to a dense Tensor of unknown shape. \"\n"
     ]
    }
   ],
   "source": [
    "history = model.fit(x_train, y_train,\n",
    "                    batch_size=batch_size,\n",
    "                    epochs=90,\n",
    "                    verbose=0,\n",
    "                    validation_split=0.2,\n",
    "                    )"
   ]
  },
  {
   "cell_type": "code",
   "execution_count": 72,
   "metadata": {},
   "outputs": [
    {
     "name": "stdout",
     "output_type": "stream",
     "text": [
      "Test score: 0.949\n"
     ]
    }
   ],
   "source": [
    "res = model.predict(x_test)\n",
    "print(f'Test score: {round(roc_auc_score(y_test, res),3)}')"
   ]
  },
  {
   "cell_type": "code",
   "execution_count": 73,
   "metadata": {},
   "outputs": [
    {
     "data": {
      "image/png": "[encoded data removed]",
      "text/plain": [
       "<Figure size 432x288 with 1 Axes>"
      ]
     },
     "metadata": {
      "needs_background": "light"
     },
     "output_type": "display_data"
    },
    {
     "data": {
      "image/png": "[encoded data removed]",
      "text/plain": [
       "<Figure size 432x288 with 1 Axes>"
      ]
     },
     "metadata": {
      "needs_background": "light"
     },
     "output_type": "display_data"
    }
   ],
   "source": [
    "plt.figure()\n",
    "plt.plot(history.history['loss'], label='train loss')\n",
    "plt.plot(history.history['val_loss'], label='validation loss')\n",
    "plt.xlabel('Epochs')\n",
    "plt.ylabel('Loss')\n",
    "plt.legend()\n",
    "\n",
    "plt.figure()\n",
    "plt.plot(history.history['accuracy'], label='train accuracy')\n",
    "plt.plot(history.history['val_accuracy'], label='validation accuracy')\n",
    "plt.xlabel('Epochs')\n",
    "plt.ylabel('Accuracy')\n",
    "plt.legend()\n",
    "\n",
    "plt.show()"
   ]
  },
  {
   "cell_type": "code",
   "execution_count": null,
   "metadata": {},
   "outputs": [],
   "source": []
  }
 ],
 "metadata": {
  "kernelspec": {
   "display_name": "Python 3",
   "language": "python",
   "name": "python3"
  },
  "language_info": {
   "codemirror_mode": {
    "name": "ipython",
    "version": 3
   },
   "file_extension": ".py",
   "mimetype": "text/x-python",
   "name": "python",
   "nbconvert_exporter": "python",
   "pygments_lexer": "ipython3",
   "version": "3.7.6"
  }
 },
 "nbformat": 4,
 "nbformat_minor": 4
}
