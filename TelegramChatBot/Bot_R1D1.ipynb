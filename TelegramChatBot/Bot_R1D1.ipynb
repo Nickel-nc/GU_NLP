{
 "cells": [
  {
   "cell_type": "code",
   "execution_count": 65,
   "metadata": {},
   "outputs": [],
   "source": [
    "import os\n",
    "from telegram.ext  import Updater, CommandHandler, MessageHandler, Filters\n",
    "import dialogflow\n",
    "import string\n",
    "from pymorphy2 import MorphAnalyzer\n",
    "from stop_words import get_stop_words\n",
    "import annoy\n",
    "from gensim.models import Word2Vec, FastText\n",
    "import pickle\n",
    "import numpy as np\n",
    "import pandas as pd\n",
    "from tqdm.notebook import tqdm\n",
    "import regex as re\n",
    "import random\n",
    "\n",
    "from data.keyvault import keyvault"
   ]
  },
  {
   "cell_type": "code",
   "execution_count": 2,
   "metadata": {},
   "outputs": [],
   "source": [
    "###########\n",
    "# Settings\n",
    "###########\n",
    "\n",
    "DATA_PATH = \"data/Otvety.txt\"\n",
    "ANSWERS_PATH = 'data/prepared_answers.txt'\n",
    "FASTTEXT_MODEL_PATH = 'data/ft_100_model.h5'\n",
    "RAW_SENTENCES_PATH = 'data/raw_sentences.pkl'\n",
    "INDEX_MAP_PATH = 'data/index_map.pkl'\n",
    "FT_INDEX_PATH = 'data/ft_index'\n",
    "FT_VECTOR_MAX_LEN = 100\n",
    "\n",
    "morpher = MorphAnalyzer()\n",
    "sw = set(get_stop_words(\"ru\"))\n",
    "exclude = set(string.punctuation)"
   ]
  },
  {
   "cell_type": "markdown",
   "metadata": {},
   "source": [
    "## Рутина предобработки. Подготовка и обучение FastText модели на ответах mail.ru"
   ]
  },
  {
   "cell_type": "code",
   "execution_count": 6,
   "metadata": {},
   "outputs": [],
   "source": [
    "def preprocess_txt(line):\n",
    "    spls = \"\".join(i for i in line.strip() if i not in exclude).split()\n",
    "    spls = [morpher.parse(i.lower())[0].normal_form for i in spls]\n",
    "    spls = [i for i in spls if i not in sw and i != \"\"]\n",
    "    return spls"
   ]
  },
  {
   "cell_type": "code",
   "execution_count": 5,
   "metadata": {},
   "outputs": [],
   "source": [
    "def get_sentences(input_file, len_limit=1500000):\n",
    "    \n",
    "    \"\"\"Process text. extract sentense tokens with morph processor\"\"\"\n",
    "    \n",
    "    # Preprocess for models fitting\n",
    "\n",
    "    sentences = []\n",
    "\n",
    "    morpher = MorphAnalyzer()\n",
    "    sw = set(get_stop_words(\"ru\"))\n",
    "    exclude = set(string.punctuation)\n",
    "    c = 0\n",
    "\n",
    "    with open(input_file, \"r\", encoding='utf-8') as fin:\n",
    "        for line in tqdm(fin):\n",
    "            spls = preprocess_txt(line, exclude, morpher, sw)\n",
    "            sentences.append(spls)\n",
    "            c += 1\n",
    "            if c > len_limit:\n",
    "                break\n",
    "                \n",
    "    return sentences"
   ]
  },
  {
   "cell_type": "code",
   "execution_count": 6,
   "metadata": {},
   "outputs": [
    {
     "data": {
      "application/vnd.jupyter.widget-view+json": {
       "model_id": "37372ec564cd420a982adccdb26d50ed",
       "version_major": 2,
       "version_minor": 0
      },
      "text/plain": [
       "HBox(children=(FloatProgress(value=1.0, bar_style='info', max=1.0), HTML(value='')))"
      ]
     },
     "metadata": {},
     "output_type": "display_data"
    }
   ],
   "source": [
    "sentences = get_sentences(DATA_PATH)"
   ]
  },
  {
   "cell_type": "code",
   "execution_count": 14,
   "metadata": {},
   "outputs": [],
   "source": [
    "modelFT = FastText.load(FASTTEXT_MODEL_PATH)"
   ]
  },
  {
   "cell_type": "code",
   "execution_count": 20,
   "metadata": {},
   "outputs": [
    {
     "data": {
      "application/vnd.jupyter.widget-view+json": {
       "model_id": "0599f43cac904f6f9be769edec014c17",
       "version_major": 2,
       "version_minor": 0
      },
      "text/plain": [
       "HBox(children=(FloatProgress(value=1.0, bar_style='info', max=1.0), HTML(value='')))"
      ]
     },
     "metadata": {},
     "output_type": "display_data"
    },
    {
     "name": "stderr",
     "output_type": "stream",
     "text": [
      "C:\\Users\\Nickel\\anaconda3\\lib\\site-packages\\ipykernel_launcher.py:17: DeprecationWarning: Call to deprecated `__contains__` (Method will be removed in 4.0.0, use self.wv.__contains__() instead).\n",
      "C:\\Users\\Nickel\\anaconda3\\lib\\site-packages\\ipykernel_launcher.py:18: DeprecationWarning: Call to deprecated `__getitem__` (Method will be removed in 4.0.0, use self.wv.__getitem__() instead).\n"
     ]
    },
    {
     "name": "stdout",
     "output_type": "stream",
     "text": [
      "\n"
     ]
    }
   ],
   "source": [
    "# modelFT = FastText.load(\"ft_model.h5\")\n",
    "\n",
    "# Создание индексов FastText\n",
    "ft_index = annoy.AnnoyIndex(FT_VECTOR_MAX_LEN ,'angular')\n",
    "\n",
    "index_map = {}\n",
    "counter = 0\n",
    "\n",
    "with open(ANSWERS_PATH, \"r\", encoding='utf-8') as f:\n",
    "    for line in tqdm(f):\n",
    "        n_ft = 0\n",
    "        spls = line.split(\"\\t\")\n",
    "        index_map[counter] = spls[1]\n",
    "        question = preprocess_txt(spls[0])\n",
    "        vector_ft = np.zeros(FT_VECTOR_MAX_LEN)\n",
    "        for word in question:\n",
    "            if word in modelFT:\n",
    "                vector_ft += modelFT[word]\n",
    "                n_ft += 1\n",
    "        if n_ft > 0:\n",
    "            vector_ft = vector_ft / n_ft\n",
    "        ft_index.add_item(counter, vector_ft)\n",
    "            \n",
    "        counter += 1\n",
    "\n",
    "# Сохранение просчитанной карты индексов\n",
    "with open(INDEX_MAP_PATH, 'wb') as f:\n",
    "    pickle.dump(index_map, f)\n",
    "    \n",
    "# Построеиние индексов на 20 деревьях и сохранение на диск\n",
    "ft_index.build(20)\n",
    "ft_index.save(FT_INDEX_PATH)"
   ]
  },
  {
   "cell_type": "markdown",
   "metadata": {},
   "source": [
    "## Реализация функционала. Загрузка и тестирование бота"
   ]
  },
  {
   "cell_type": "code",
   "execution_count": 3,
   "metadata": {},
   "outputs": [],
   "source": [
    "# Загрузка заготовок: Fast text модель, индексы, индексированная карта ответов\n",
    "\n",
    "modelFT = FastText.load(FASTTEXT_MODEL_PATH)\n",
    "\n",
    "ft_index = annoy.AnnoyIndex(FT_VECTOR_MAX_LEN, 'angular')\n",
    "ft_index.load(FT_INDEX_PATH)\n",
    "\n",
    "with open(INDEX_MAP_PATH, 'rb') as f:\n",
    "    index_map = pickle.load(f)"
   ]
  },
  {
   "cell_type": "code",
   "execution_count": 7,
   "metadata": {},
   "outputs": [],
   "source": [
    "def preprocess_txt(line):\n",
    "    \"\"\"Строковый препроцессинг,  текстовой строки строки\"\"\"\n",
    "    spls = \"\".join(i for i in line.strip() if i not in exclude).split()\n",
    "    spls = [morpher.parse(i.lower())[0].normal_form for i in spls]\n",
    "    spls = [i for i in spls if i not in sw and i != \"\"]\n",
    "    return spls\n",
    "\n",
    "def get_response(question, index, model, index_map):\n",
    "    \n",
    "    \"\"\"Полечение ответа из модели fast text\"\"\"\n",
    "    \n",
    "    question = preprocess_txt(question)\n",
    "    vector = np.zeros(FT_VECTOR_MAX_LEN)\n",
    "    norm = 0\n",
    "    for word in question:\n",
    "        if word in model:\n",
    "            vector += model[word]\n",
    "            norm += 1\n",
    "    if norm > 0:\n",
    "        vector = vector / norm\n",
    "    answers = index.get_nns_by_vector(vector, 3)\n",
    "    return [index_map[i] for i in answers]"
   ]
  },
  {
   "cell_type": "code",
   "execution_count": 90,
   "metadata": {},
   "outputs": [
    {
     "name": "stderr",
     "output_type": "stream",
     "text": [
      "C:\\Users\\Nickel\\anaconda3\\lib\\site-packages\\ipykernel_launcher.py:15: DeprecationWarning: Call to deprecated `__contains__` (Method will be removed in 4.0.0, use self.wv.__contains__() instead).\n",
      "  from ipykernel import kernelapp as app\n",
      "C:\\Users\\Nickel\\anaconda3\\lib\\site-packages\\ipykernel_launcher.py:16: DeprecationWarning: Call to deprecated `__getitem__` (Method will be removed in 4.0.0, use self.wv.__getitem__() instead).\n",
      "  app.launch_new_instance()\n"
     ]
    },
    {
     "data": {
      "text/plain": [
       "['точно есть. везде есть. а мы вообще на земле являемся подопытными кроликами.. \\n',\n",
       " 'пока еще нет)) но скоро и там появяться армяне и китайцы)) и будут продавать чебуреки и шмотки)))))). \\n',\n",
       " 'Доброго!!! !<br>Есть там жизнь-нет там жизни нам это неизвестно, но опыты по производству жизни ведуться. \\n']"
      ]
     },
     "execution_count": 90,
     "metadata": {},
     "output_type": "execute_result"
    }
   ],
   "source": [
    "# тестирование модуля болталки на \"ответах mail.ru\"\n",
    "TEXT = \"есть ли жизнь на марсе?\"\n",
    "r = get_response(TEXT, ft_index, modelFT, index_map)\n",
    "r"
   ]
  },
  {
   "cell_type": "code",
   "execution_count": 92,
   "metadata": {},
   "outputs": [
    {
     "data": {
      "text/plain": [
       "'пока еще нет)) но скоро и там появяться армяне и китайцы)) и будут продавать чебуреки и шмотки)))))). '"
      ]
     },
     "execution_count": 92,
     "metadata": {},
     "output_type": "execute_result"
    }
   ],
   "source": [
    "clear_sent(r)"
   ]
  },
  {
   "cell_type": "markdown",
   "metadata": {},
   "source": [
    "## Запуск бота"
   ]
  },
  {
   "cell_type": "code",
   "execution_count": 107,
   "metadata": {},
   "outputs": [
    {
     "name": "stderr",
     "output_type": "stream",
     "text": [
      "C:\\Users\\Nickel\\anaconda3\\lib\\site-packages\\ipykernel_launcher.py:1: TelegramDeprecationWarning: Old Handler API is deprecated - see https://git.io/fxJuV for details\n",
      "  \"\"\"Entry point for launching an IPython kernel.\n"
     ]
    }
   ],
   "source": [
    "updater = Updater(token=keyvault['telegram_token'])\n",
    "dispatcher = updater.dispatcher\n",
    "os.environ[\"GOOGLE_APPLICATION_CREDENTIALS\"] = keyvault['google_api_key'] # Ключ к google API dialogflow\n",
    "\n",
    "DIALOGFLOW_PROJECT_ID = keyvault['dialogflow_project_id'] # PROJECT ID DialogFlow \n",
    "DIALOGFLOW_LANGUAGE_CODE = 'ru' # языковая группа\n",
    "SESSION_ID = 'SetMyTasksBot'  # ID телеграмм бота\n",
    "\n",
    "start_msg = 'Чат-бот R1D0 приветствует тебя. Я умею поддерживать беседу и отвечать на вопросы'"
   ]
  },
  {
   "cell_type": "code",
   "execution_count": 103,
   "metadata": {},
   "outputs": [],
   "source": [
    "def clear_sent(text):\n",
    "    target_sent = random.choice(text)\n",
    "    target_sent = re.sub(r'<[^>]*>','', target_sent)\n",
    "    target_sent = re.sub(r'[\\xa0]',' ', target_sent)\n",
    "    target_sent = re.sub(r'[\\n]','', target_sent)\n",
    "    target_sent = re.sub(r'\\s[.]\\s','', target_sent)\n",
    "    return target_sent"
   ]
  },
  {
   "cell_type": "code",
   "execution_count": 104,
   "metadata": {},
   "outputs": [],
   "source": [
    "def startCommand(bot, update):\n",
    "    bot.send_message(chat_id=update.message.chat_id, text=start_msg)\n",
    "\n",
    "def textMessage(bot, update):\n",
    "    \n",
    "    # Начало: Поиск интентов на DialogFlow\n",
    "    input_txt = update.message.text\n",
    "    session_client = dialogflow.SessionsClient()\n",
    "    session = session_client.session_path(DIALOGFLOW_PROJECT_ID, SESSION_ID)\n",
    "    text_input = dialogflow.types.TextInput(text=input_txt, language_code=DIALOGFLOW_LANGUAGE_CODE)\n",
    "    query_input = dialogflow.types.QueryInput(text=text_input)\n",
    "    try:\n",
    "        response = session_client.detect_intent(session=session, query_input=query_input)\n",
    "    except InvalidArgument:\n",
    "         raise\n",
    "\n",
    "    text = response.query_result.fulfillment_text\n",
    "    if text and text != 'null':\n",
    "        bot.send_message(chat_id=update.message.chat_id, text= response.query_result.fulfillment_text)\n",
    "    else:\n",
    "        # Интент DialogFlow на найден --> включение режима болталки на \"ответах mail.ru\"\n",
    "        answers_response = get_response(input_txt, ft_index, modelFT, index_map)\n",
    "        answers_response = clear_sent(answers_response)\n",
    "        bot.send_message(chat_id=update.message.chat_id, text=answers_response)"
   ]
  },
  {
   "cell_type": "code",
   "execution_count": 105,
   "metadata": {},
   "outputs": [],
   "source": [
    "# Хендлеры\n",
    "\n",
    "start_command_handler = CommandHandler('start', startCommand)\n",
    "text_message_handler = MessageHandler(Filters.text, textMessage)\n",
    "\n",
    "# Добавляем хендлеры в диспатчер\n",
    "dispatcher.add_handler(start_command_handler)\n",
    "dispatcher.add_handler(text_message_handler)\n",
    "# Начинаем поиск обновлений\n",
    "updater.start_polling(clean=True)\n",
    "# Останавливаем бота на Ctrl + C\n",
    "updater.idle()"
   ]
  },
  {
   "cell_type": "code",
   "execution_count": null,
   "metadata": {},
   "outputs": [],
   "source": []
  }
 ],
 "metadata": {
  "kernelspec": {
   "display_name": "Python 3",
   "language": "python",
   "name": "python3"
  },
  "language_info": {
   "codemirror_mode": {
    "name": "ipython",
    "version": 3
   },
   "file_extension": ".py",
   "mimetype": "text/x-python",
   "name": "python",
   "nbconvert_exporter": "python",
   "pygments_lexer": "ipython3",
   "version": "3.7.6"
  }
 },
 "nbformat": 4,
 "nbformat_minor": 4
}
