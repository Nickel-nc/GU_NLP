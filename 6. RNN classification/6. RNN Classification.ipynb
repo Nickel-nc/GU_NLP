{
 "cells": [
  {
   "cell_type": "markdown",
   "metadata": {},
   "source": [
    "## Dataset: отзывы о приложении (`'Ru'`)"
   ]
  },
  {
   "cell_type": "markdown",
   "metadata": {},
   "source": [
    "**TODO:**\n",
    "\n",
    "Провести сравнение RNN, LSTM, GRU на датасете отзывов (из предыдущих занятий/материалов)"
   ]
  },
  {
   "cell_type": "code",
   "execution_count": 1,
   "metadata": {},
   "outputs": [
    {
     "name": "stderr",
     "output_type": "stream",
     "text": [
      "Using TensorFlow backend.\n"
     ]
    }
   ],
   "source": [
    "##############\n",
    "# Import libs\n",
    "##############\n",
    "\n",
    "import pandas as pd\n",
    "import numpy as np\n",
    "import seaborn as sns\n",
    "from matplotlib import pyplot as plt\n",
    "import datetime\n",
    "from stop_words import get_stop_words\n",
    "from string import punctuation\n",
    "from pymorphy2 import MorphAnalyzer\n",
    "from nltk.tokenize import word_tokenize\n",
    "import regex as re\n",
    "from sklearn.model_selection import train_test_split\n",
    "from sklearn.metrics import roc_auc_score\n",
    "from nltk.probability import FreqDist\n",
    "import random\n",
    "import tensorflow as tf\n",
    "import keras\n",
    "from keras.models import Sequential, Model\n",
    "from keras.layers import Dense, Dropout, Activation, Input, Embedding, Conv1D, GlobalMaxPool1D, SimpleRNN , LSTM, GRU, Masking\n",
    "from keras.preprocessing.text import Tokenizer\n",
    "from keras.preprocessing.sequence import pad_sequences\n",
    "from keras.callbacks import TensorBoard \n",
    "from keras.objectives import categorical_crossentropy\n",
    "from keras.callbacks import EarlyStopping \n",
    "from gensim.models import Word2Vec\n",
    "import multiprocessing"
   ]
  },
  {
   "cell_type": "code",
   "execution_count": 2,
   "metadata": {},
   "outputs": [],
   "source": [
    "###########\n",
    "# Settings\n",
    "###########\n",
    "\n",
    "# Fix seeds\n",
    "seed = 42\n",
    "random.seed(seed)\n",
    "np.random.seed(seed)\n",
    "tf.random.set_seed(seed)\n",
    "\n",
    "# Constants\n",
    "max_words = 2000\n",
    "max_len = 50\n",
    "epochs = 20\n",
    "batch_size = 4096\n",
    "vec_len = 10\n",
    "N_CLASSES = 2\n",
    "\n",
    "sw = set(get_stop_words(\"ru\"))\n",
    "exclude = set(punctuation)\n",
    "morpher = MorphAnalyzer()\n",
    "\n",
    "# Load data\n",
    "data = pd.read_excel('data/отзывы за лето.xls', parse_dates=[2])\n",
    "\n",
    "# Specify fields under focus \n",
    "TARGET = 'target'\n",
    "PROCESSED = 'preprocessed'"
   ]
  },
  {
   "cell_type": "code",
   "execution_count": 3,
   "metadata": {},
   "outputs": [
    {
     "data": {
      "text/html": [
       "<div>\n",
       "<style scoped>\n",
       "    .dataframe tbody tr th:only-of-type {\n",
       "        vertical-align: middle;\n",
       "    }\n",
       "\n",
       "    .dataframe tbody tr th {\n",
       "        vertical-align: top;\n",
       "    }\n",
       "\n",
       "    .dataframe thead th {\n",
       "        text-align: right;\n",
       "    }\n",
       "</style>\n",
       "<table border=\"1\" class=\"dataframe\">\n",
       "  <thead>\n",
       "    <tr style=\"text-align: right;\">\n",
       "      <th></th>\n",
       "      <th>Rating</th>\n",
       "      <th>Content</th>\n",
       "      <th>Date</th>\n",
       "    </tr>\n",
       "  </thead>\n",
       "  <tbody>\n",
       "    <tr>\n",
       "      <th>0</th>\n",
       "      <td>5</td>\n",
       "      <td>It just works!</td>\n",
       "      <td>2017-08-14</td>\n",
       "    </tr>\n",
       "    <tr>\n",
       "      <th>1</th>\n",
       "      <td>4</td>\n",
       "      <td>В целом удобноное приложение...из минусов хотя...</td>\n",
       "      <td>2017-08-14</td>\n",
       "    </tr>\n",
       "    <tr>\n",
       "      <th>2</th>\n",
       "      <td>5</td>\n",
       "      <td>Отлично все</td>\n",
       "      <td>2017-08-14</td>\n",
       "    </tr>\n",
       "    <tr>\n",
       "      <th>3</th>\n",
       "      <td>5</td>\n",
       "      <td>Стал зависать на 1% работы антивируса. Дальше ...</td>\n",
       "      <td>2017-08-14</td>\n",
       "    </tr>\n",
       "    <tr>\n",
       "      <th>4</th>\n",
       "      <td>5</td>\n",
       "      <td>Очень удобно, работает быстро.</td>\n",
       "      <td>2017-08-14</td>\n",
       "    </tr>\n",
       "    <tr>\n",
       "      <th>...</th>\n",
       "      <td>...</td>\n",
       "      <td>...</td>\n",
       "      <td>...</td>\n",
       "    </tr>\n",
       "    <tr>\n",
       "      <th>20654</th>\n",
       "      <td>1</td>\n",
       "      <td>Ну и шляпа,с роот правами бесполезная прога,ра...</td>\n",
       "      <td>2017-06-01</td>\n",
       "    </tr>\n",
       "    <tr>\n",
       "      <th>20655</th>\n",
       "      <td>5</td>\n",
       "      <td>Ок</td>\n",
       "      <td>2017-06-01</td>\n",
       "    </tr>\n",
       "    <tr>\n",
       "      <th>20656</th>\n",
       "      <td>4</td>\n",
       "      <td>Доволен</td>\n",
       "      <td>2017-06-01</td>\n",
       "    </tr>\n",
       "    <tr>\n",
       "      <th>20657</th>\n",
       "      <td>1</td>\n",
       "      <td>Песопаснасть, рут ни нужын</td>\n",
       "      <td>2017-06-01</td>\n",
       "    </tr>\n",
       "    <tr>\n",
       "      <th>20658</th>\n",
       "      <td>5</td>\n",
       "      <td>Сбербанк бомбовая компания на сегодняшний день...</td>\n",
       "      <td>2017-06-01</td>\n",
       "    </tr>\n",
       "  </tbody>\n",
       "</table>\n",
       "<p>20659 rows × 3 columns</p>\n",
       "</div>"
      ],
      "text/plain": [
       "       Rating                                            Content       Date\n",
       "0           5                                     It just works! 2017-08-14\n",
       "1           4  В целом удобноное приложение...из минусов хотя... 2017-08-14\n",
       "2           5                                        Отлично все 2017-08-14\n",
       "3           5  Стал зависать на 1% работы антивируса. Дальше ... 2017-08-14\n",
       "4           5                     Очень удобно, работает быстро. 2017-08-14\n",
       "...       ...                                                ...        ...\n",
       "20654       1  Ну и шляпа,с роот правами бесполезная прога,ра... 2017-06-01\n",
       "20655       5                                                 Ок 2017-06-01\n",
       "20656       4                                            Доволен 2017-06-01\n",
       "20657       1                         Песопаснасть, рут ни нужын 2017-06-01\n",
       "20658       5  Сбербанк бомбовая компания на сегодняшний день... 2017-06-01\n",
       "\n",
       "[20659 rows x 3 columns]"
      ]
     },
     "execution_count": 3,
     "metadata": {},
     "output_type": "execute_result"
    }
   ],
   "source": [
    "data"
   ]
  },
  {
   "cell_type": "code",
   "execution_count": 4,
   "metadata": {},
   "outputs": [],
   "source": [
    "\"\"\"Processing block\"\"\"\n",
    "\n",
    "def preprocess_text(txt):\n",
    "    \n",
    "    \"\"\"\n",
    "    Строковый препроцессинг. Чистит лишнюю пунктуацию, приводит слова к номальной форме\n",
    "    \"\"\"\n",
    "    \n",
    "    txt = str(txt)\n",
    "    txt = re.sub(r'( )+', \" \", re.sub(r'[^\\w\\s]', \" \", txt)).strip()\n",
    "    txt = \"\".join(c for c in txt if c not in exclude)\n",
    "    txt = txt.lower()\n",
    "    txt = [morpher.parse(word)[0].normal_form for word in txt.split() if word not in sw]\n",
    "    txt = \" \".join(txt)\n",
    "    txt = re.sub(\"\\sне\", \"не\", txt)\n",
    "    return txt\n",
    "\n",
    "def prepare_data(df: pd.DataFrame,\n",
    "                 n_classes: int,\n",
    "                 processed_field: str = PROCESSED,\n",
    "                 target_field: str = TARGET) -> pd.DataFrame:\n",
    "    \n",
    "    assert n_classes in [2,5], 'Bad Number of classes'\n",
    "    \n",
    "    print(f\"Data preparing...\", end=\"\")\n",
    "    \n",
    "    \"\"\"\n",
    "    Предобработка данных под тип классификатора. Преобразование таргета для one-hot encoding\n",
    "    Ожидает на вход n_classes: 2 | 5\n",
    "    \"\"\"\n",
    "    \n",
    "    \n",
    "    df[processed_field] = df['Content'].apply(preprocess_text)\n",
    "    \n",
    "    if n_classes == 2:\n",
    "        df = df[df['Rating'] != 3]\n",
    "        df[target_field] = (df['Rating'] > 3).astype('uint8')\n",
    "        \n",
    "    else:\n",
    "        df[target_field] = df['Rating'] - 1\n",
    "    \n",
    "    return df\n",
    "    \n",
    "\n",
    "def get_splits(data, seed=seed):\n",
    "    \n",
    "    \"\"\"\n",
    "    Разделение датасета на 3 сплита в пропорции (60% + 20% + 20%)\n",
    "    \"\"\"\n",
    "    \n",
    "    print(f\"Preparing splits...\", end=\"\")\n",
    "    \n",
    "    # Split dataset on 3 folds\n",
    "    train, test = train_test_split(data, test_size=0.6, shuffle=True, random_state=seed)\n",
    "    valid, test = train_test_split(test, test_size=0.5, shuffle=True, random_state=seed)\n",
    "    \n",
    "    return train, valid, test\n",
    "    \n",
    "\n",
    "def build_model(memory_cells_type: callable,\n",
    "                n_classes: int,\n",
    "                max_words: int,\n",
    "                train_len: int\n",
    "               ):\n",
    "    \n",
    "    \"\"\"\n",
    "    Построение рекурентной модели в зависимости от типа\n",
    "    \n",
    "    Parameters\n",
    "    ----------\n",
    "    memory_cells_type: callable\n",
    "        Тип ячеек памяти. Ожидает на вход tf.keras слои: SimpleRNN, LSTM, GRU ...\n",
    "    \n",
    "    n_classes: int\n",
    "        Количество классов модели\n",
    "    \n",
    "    max_words: int\n",
    "        Максимальное количество слов в текстовой последовательности\n",
    "    \n",
    "    max_len: int\n",
    "        Длина вектора последовательностей\n",
    "        \n",
    "    \"\"\"\n",
    "    \n",
    "    print(f\"Model Building...\", end=\"\")\n",
    "\n",
    "    model = Sequential()\n",
    "\n",
    "    model.add(\n",
    "        Embedding(input_dim=max_words,\n",
    "                  input_length=train_len,\n",
    "                  output_dim=30,\n",
    "                  trainable=True,\n",
    "                  mask_zero=True))\n",
    "    model.add(Masking(mask_value=0.0))\n",
    "\n",
    "    model.add(memory_cells_type(64))\n",
    "    model.add(Dense(64, activation='relu'))\n",
    "    model.add(Dropout(0.5))\n",
    "    model.add(Dense(1, activation='sigmoid'))\n",
    "\n",
    "    model.compile(\n",
    "        optimizer='adam', loss='binary_crossentropy', metrics=['accuracy'])\n",
    "    \n",
    "    print(\"Done. Model Summary:\")\n",
    "    print(model.summary())\n",
    "    \n",
    "    return model\n",
    "\n",
    "def plot_history(history):\n",
    "    \n",
    "    \"\"\"\n",
    "    Вывод фукнций потерь и точности модели  \n",
    "    \"\"\"\n",
    "    \n",
    "    fig, ax = plt.subplots(1,2, figsize=(16,4))\n",
    "\n",
    "    ax[0].plot(history.history['loss'], label='train loss')\n",
    "    ax[0].plot(history.history['val_loss'], label='validation loss')\n",
    "    ax[0].set_xlabel('Epochs')\n",
    "    ax[0].set_ylabel('Loss')\n",
    "    ax[0].legend()\n",
    "\n",
    "    ax[1].plot(history.history['accuracy'], label='train accuracy')\n",
    "    ax[1].plot(history.history['val_accuracy'], label='validation accuracy')\n",
    "    ax[1].set_xlabel('Epochs')\n",
    "    ax[1].set_ylabel('Accuracy')\n",
    "    ax[1].legend()\n",
    "\n",
    "    plt.show()"
   ]
  },
  {
   "cell_type": "code",
   "execution_count": 5,
   "metadata": {},
   "outputs": [
    {
     "name": "stdout",
     "output_type": "stream",
     "text": [
      "Data preparing..."
     ]
    },
    {
     "name": "stderr",
     "output_type": "stream",
     "text": [
      "C:\\Users\\Nickel\\anaconda3\\lib\\site-packages\\ipykernel_launcher.py:37: SettingWithCopyWarning: \n",
      "A value is trying to be set on a copy of a slice from a DataFrame.\n",
      "Try using .loc[row_indexer,col_indexer] = value instead\n",
      "\n",
      "See the caveats in the documentation: https://pandas.pydata.org/pandas-docs/stable/user_guide/indexing.html#returning-a-view-versus-a-copy\n"
     ]
    },
    {
     "name": "stdout",
     "output_type": "stream",
     "text": [
      "Preparing splits..."
     ]
    }
   ],
   "source": [
    "data = prepare_data(df=data, n_classes=N_CLASSES)\n",
    "df_train, df_val, df_test = get_splits(data)\n",
    "\n",
    "text_corpus_train = df_train[PROCESSED].values\n",
    "text_corpus_valid = df_val[PROCESSED].values\n",
    "text_corpus_test = df_test[PROCESSED].values\n",
    "\n",
    "tokenizer = Tokenizer(num_words=None, \n",
    "                      lower = False,\n",
    "                      split = ' ')\n",
    "tokenizer.fit_on_texts(text_corpus_train)\n",
    "\n",
    "sequences_train = tokenizer.texts_to_sequences(text_corpus_train)\n",
    "sequences_val = tokenizer.texts_to_sequences(text_corpus_valid)\n",
    "sequences_test = tokenizer.texts_to_sequences(text_corpus_test)\n",
    "\n",
    "word_count = len(tokenizer.index_word) + 1\n",
    "training_length = max([len(i.split()) for i in text_corpus_train])\n",
    "\n",
    "X_train = pad_sequences(sequences_train, maxlen=training_length)\n",
    "X_valid = pad_sequences(sequences_val, maxlen=training_length)\n",
    "X_test = pad_sequences(sequences_test, maxlen=training_length)\n",
    "\n",
    "y_train = df_train[TARGET].values\n",
    "y_val = df_val[TARGET].values\n",
    "y_test = df_test[TARGET].values"
   ]
  },
  {
   "cell_type": "markdown",
   "metadata": {},
   "source": [
    "## RNN"
   ]
  },
  {
   "cell_type": "code",
   "execution_count": 7,
   "metadata": {},
   "outputs": [
    {
     "name": "stdout",
     "output_type": "stream",
     "text": [
      "Model Building...Done. Model Summary:\n",
      "Model: \"sequential_1\"\n",
      "_________________________________________________________________\n",
      "Layer (type)                 Output Shape              Param #   \n",
      "=================================================================\n",
      "embedding_1 (Embedding)      (None, 101, 30)           154620    \n",
      "_________________________________________________________________\n",
      "masking_1 (Masking)          (None, 101, 30)           0         \n",
      "_________________________________________________________________\n",
      "simple_rnn_1 (SimpleRNN)     (None, 64)                6080      \n",
      "_________________________________________________________________\n",
      "dense_1 (Dense)              (None, 64)                4160      \n",
      "_________________________________________________________________\n",
      "dropout_1 (Dropout)          (None, 64)                0         \n",
      "_________________________________________________________________\n",
      "dense_2 (Dense)              (None, 1)                 65        \n",
      "=================================================================\n",
      "Total params: 164,925\n",
      "Trainable params: 164,925\n",
      "Non-trainable params: 0\n",
      "_________________________________________________________________\n",
      "None\n"
     ]
    }
   ],
   "source": [
    "model = build_model(memory_cells_type=SimpleRNN,\n",
    "                    n_classes=N_CLASSES,\n",
    "                    max_words=word_count,\n",
    "                    train_len=training_length)"
   ]
  },
  {
   "cell_type": "code",
   "execution_count": 8,
   "metadata": {},
   "outputs": [
    {
     "name": "stderr",
     "output_type": "stream",
     "text": [
      "C:\\Users\\Nickel\\anaconda3\\lib\\site-packages\\tensorflow_core\\python\\framework\\indexed_slices.py:433: UserWarning: Converting sparse IndexedSlices to a dense Tensor of unknown shape. This may consume a large amount of memory.\n",
      "  \"Converting sparse IndexedSlices to a dense Tensor of unknown shape. \"\n"
     ]
    },
    {
     "name": "stdout",
     "output_type": "stream",
     "text": [
      "Train on 7109 samples, validate on 790 samples\n",
      "Epoch 1/20\n",
      "7109/7109 [==============================] - 1s 136us/step - loss: 0.6482 - accuracy: 0.7292 - val_loss: 0.5715 - val_accuracy: 0.8354\n",
      "Epoch 2/20\n",
      "7109/7109 [==============================] - 0s 33us/step - loss: 0.5587 - accuracy: 0.8177 - val_loss: 0.4897 - val_accuracy: 0.8354\n",
      "Epoch 3/20\n",
      "7109/7109 [==============================] - 0s 33us/step - loss: 0.4807 - accuracy: 0.8408 - val_loss: 0.4426 - val_accuracy: 0.8354\n",
      "Epoch 4/20\n",
      "7109/7109 [==============================] - 0s 32us/step - loss: 0.4366 - accuracy: 0.8479 - val_loss: 0.4414 - val_accuracy: 0.8354\n",
      "Epoch 5/20\n",
      "7109/7109 [==============================] - 0s 34us/step - loss: 0.4454 - accuracy: 0.8481 - val_loss: 0.4572 - val_accuracy: 0.8354\n",
      "Wall time: 2.68 s\n"
     ]
    }
   ],
   "source": [
    "%%time\n",
    "\n",
    "early_stopping=EarlyStopping(monitor='val_loss')  \n",
    "\n",
    "\n",
    "history = model.fit(X_train, y_train,\n",
    "                    batch_size=batch_size,\n",
    "                    epochs=epochs,\n",
    "                    verbose=1,\n",
    "                    validation_split=0.1,\n",
    "                    callbacks=[early_stopping])"
   ]
  },
  {
   "cell_type": "code",
   "execution_count": 9,
   "metadata": {},
   "outputs": [
    {
     "name": "stdout",
     "output_type": "stream",
     "text": [
      "5924/5924 [==============================] - 0s 29us/step\n",
      "\n",
      "\n",
      "Test score: 0.4382634056250362\n",
      "Test accuracy: 0.8440243005752563\n"
     ]
    }
   ],
   "source": [
    "score = model.evaluate(X_valid, y_val, batch_size=512, verbose=1)\n",
    "print('\\n')\n",
    "print('Test score:', score[0])\n",
    "print('Test accuracy:', score[1])"
   ]
  },
  {
   "cell_type": "code",
   "execution_count": 10,
   "metadata": {},
   "outputs": [
    {
     "name": "stdout",
     "output_type": "stream",
     "text": [
      "Test score: 0.866\n"
     ]
    }
   ],
   "source": [
    "res = model.predict(X_test)\n",
    "print(f'Test score: {round(roc_auc_score(y_test, res),3)}')"
   ]
  },
  {
   "cell_type": "code",
   "execution_count": 11,
   "metadata": {},
   "outputs": [
    {
     "data": {
      "image/png": "[encoded data removed]",
      "text/plain": [
       "<Figure size 1152x288 with 2 Axes>"
      ]
     },
     "metadata": {
      "needs_background": "light"
     },
     "output_type": "display_data"
    }
   ],
   "source": [
    "plot_history(history)"
   ]
  },
  {
   "cell_type": "markdown",
   "metadata": {},
   "source": [
    "## LSTM"
   ]
  },
  {
   "cell_type": "code",
   "execution_count": 12,
   "metadata": {},
   "outputs": [
    {
     "name": "stdout",
     "output_type": "stream",
     "text": [
      "Model Building...Done. Model Summary:\n",
      "Model: \"sequential_2\"\n",
      "_________________________________________________________________\n",
      "Layer (type)                 Output Shape              Param #   \n",
      "=================================================================\n",
      "embedding_2 (Embedding)      (None, 101, 30)           154620    \n",
      "_________________________________________________________________\n",
      "masking_2 (Masking)          (None, 101, 30)           0         \n",
      "_________________________________________________________________\n",
      "lstm_1 (LSTM)                (None, 64)                24320     \n",
      "_________________________________________________________________\n",
      "dense_3 (Dense)              (None, 64)                4160      \n",
      "_________________________________________________________________\n",
      "dropout_2 (Dropout)          (None, 64)                0         \n",
      "_________________________________________________________________\n",
      "dense_4 (Dense)              (None, 1)                 65        \n",
      "=================================================================\n",
      "Total params: 183,165\n",
      "Trainable params: 183,165\n",
      "Non-trainable params: 0\n",
      "_________________________________________________________________\n",
      "None\n"
     ]
    }
   ],
   "source": [
    "model = build_model(memory_cells_type=LSTM,\n",
    "                    n_classes=N_CLASSES,\n",
    "                    max_words=word_count,\n",
    "                    train_len=training_length)"
   ]
  },
  {
   "cell_type": "code",
   "execution_count": 13,
   "metadata": {},
   "outputs": [
    {
     "name": "stderr",
     "output_type": "stream",
     "text": [
      "C:\\Users\\Nickel\\anaconda3\\lib\\site-packages\\tensorflow_core\\python\\framework\\indexed_slices.py:433: UserWarning: Converting sparse IndexedSlices to a dense Tensor of unknown shape. This may consume a large amount of memory.\n",
      "  \"Converting sparse IndexedSlices to a dense Tensor of unknown shape. \"\n"
     ]
    },
    {
     "name": "stdout",
     "output_type": "stream",
     "text": [
      "Train on 7109 samples, validate on 790 samples\n",
      "Epoch 1/20\n",
      "7109/7109 [==============================] - 1s 153us/step - loss: 0.6915 - accuracy: 0.5625 - val_loss: 0.6771 - val_accuracy: 0.8354\n",
      "Epoch 2/20\n",
      "7109/7109 [==============================] - 1s 73us/step - loss: 0.6730 - accuracy: 0.8491 - val_loss: 0.6583 - val_accuracy: 0.8354\n",
      "Epoch 3/20\n",
      "7109/7109 [==============================] - 1s 73us/step - loss: 0.6527 - accuracy: 0.8488 - val_loss: 0.6346 - val_accuracy: 0.8354\n",
      "Epoch 4/20\n",
      "7109/7109 [==============================] - 1s 71us/step - loss: 0.6269 - accuracy: 0.8488 - val_loss: 0.6014 - val_accuracy: 0.8354\n",
      "Epoch 5/20\n",
      "7109/7109 [==============================] - 1s 70us/step - loss: 0.5888 - accuracy: 0.8488 - val_loss: 0.5498 - val_accuracy: 0.8354\n",
      "Epoch 6/20\n",
      "7109/7109 [==============================] - 1s 72us/step - loss: 0.5300 - accuracy: 0.8488 - val_loss: 0.4680 - val_accuracy: 0.8354\n",
      "Epoch 7/20\n",
      "7109/7109 [==============================] - 1s 72us/step - loss: 0.4429 - accuracy: 0.8488 - val_loss: 0.4182 - val_accuracy: 0.8354\n",
      "Epoch 8/20\n",
      "7109/7109 [==============================] - 1s 72us/step - loss: 0.4155 - accuracy: 0.8488 - val_loss: 0.4634 - val_accuracy: 0.8354\n",
      "Wall time: 5.53 s\n"
     ]
    }
   ],
   "source": [
    "%%time\n",
    "\n",
    "early_stopping=EarlyStopping(monitor='val_loss')  \n",
    "\n",
    "\n",
    "history = model.fit(X_train, y_train,\n",
    "                    batch_size=batch_size,\n",
    "                    epochs=epochs,\n",
    "                    verbose=1,\n",
    "                    validation_split=0.1,\n",
    "                    callbacks=[early_stopping])"
   ]
  },
  {
   "cell_type": "code",
   "execution_count": 14,
   "metadata": {},
   "outputs": [
    {
     "name": "stdout",
     "output_type": "stream",
     "text": [
      "5924/5924 [==============================] - 0s 84us/step\n",
      "\n",
      "\n",
      "Test score: 0.4443417434592572\n",
      "Test accuracy: 0.8440243005752563\n"
     ]
    }
   ],
   "source": [
    "score = model.evaluate(X_valid, y_val, batch_size=512, verbose=1)\n",
    "print('\\n')\n",
    "print('Test score:', score[0])\n",
    "print('Test accuracy:', score[1])"
   ]
  },
  {
   "cell_type": "code",
   "execution_count": 15,
   "metadata": {},
   "outputs": [
    {
     "name": "stdout",
     "output_type": "stream",
     "text": [
      "Test score: 0.886\n"
     ]
    }
   ],
   "source": [
    "res = model.predict(X_test)\n",
    "print(f'Test score: {round(roc_auc_score(y_test, res),3)}')"
   ]
  },
  {
   "cell_type": "code",
   "execution_count": 16,
   "metadata": {},
   "outputs": [
    {
     "data": {
      "image/png": "[encoded data removed]",
      "text/plain": [
       "<Figure size 1152x288 with 2 Axes>"
      ]
     },
     "metadata": {
      "needs_background": "light"
     },
     "output_type": "display_data"
    }
   ],
   "source": [
    "plot_history(history)"
   ]
  },
  {
   "cell_type": "markdown",
   "metadata": {},
   "source": [
    "## GRU"
   ]
  },
  {
   "cell_type": "code",
   "execution_count": 17,
   "metadata": {},
   "outputs": [
    {
     "name": "stdout",
     "output_type": "stream",
     "text": [
      "Model Building...Done. Model Summary:\n",
      "Model: \"sequential_3\"\n",
      "_________________________________________________________________\n",
      "Layer (type)                 Output Shape              Param #   \n",
      "=================================================================\n",
      "embedding_3 (Embedding)      (None, 101, 30)           154620    \n",
      "_________________________________________________________________\n",
      "masking_3 (Masking)          (None, 101, 30)           0         \n",
      "_________________________________________________________________\n",
      "gru_1 (GRU)                  (None, 64)                18240     \n",
      "_________________________________________________________________\n",
      "dense_5 (Dense)              (None, 64)                4160      \n",
      "_________________________________________________________________\n",
      "dropout_3 (Dropout)          (None, 64)                0         \n",
      "_________________________________________________________________\n",
      "dense_6 (Dense)              (None, 1)                 65        \n",
      "=================================================================\n",
      "Total params: 177,085\n",
      "Trainable params: 177,085\n",
      "Non-trainable params: 0\n",
      "_________________________________________________________________\n",
      "None\n"
     ]
    }
   ],
   "source": [
    "model = build_model(memory_cells_type=GRU,\n",
    "                    n_classes=N_CLASSES,\n",
    "                    max_words=word_count,\n",
    "                    train_len=training_length)"
   ]
  },
  {
   "cell_type": "code",
   "execution_count": 18,
   "metadata": {},
   "outputs": [
    {
     "name": "stderr",
     "output_type": "stream",
     "text": [
      "C:\\Users\\Nickel\\anaconda3\\lib\\site-packages\\tensorflow_core\\python\\framework\\indexed_slices.py:433: UserWarning: Converting sparse IndexedSlices to a dense Tensor of unknown shape. This may consume a large amount of memory.\n",
      "  \"Converting sparse IndexedSlices to a dense Tensor of unknown shape. \"\n"
     ]
    },
    {
     "name": "stdout",
     "output_type": "stream",
     "text": [
      "Train on 7109 samples, validate on 790 samples\n",
      "Epoch 1/20\n",
      "7109/7109 [==============================] - 1s 143us/step - loss: 0.6926 - accuracy: 0.5279 - val_loss: 0.6829 - val_accuracy: 0.8354\n",
      "Epoch 2/20\n",
      "7109/7109 [==============================] - 1s 73us/step - loss: 0.6802 - accuracy: 0.8434 - val_loss: 0.6720 - val_accuracy: 0.8354\n",
      "Epoch 3/20\n",
      "7109/7109 [==============================] - 1s 78us/step - loss: 0.6684 - accuracy: 0.8486 - val_loss: 0.6592 - val_accuracy: 0.8354\n",
      "Epoch 4/20\n",
      "7109/7109 [==============================] - 1s 75us/step - loss: 0.6548 - accuracy: 0.8488 - val_loss: 0.6434 - val_accuracy: 0.8354\n",
      "Epoch 5/20\n",
      "7109/7109 [==============================] - 1s 77us/step - loss: 0.6376 - accuracy: 0.8488 - val_loss: 0.6238 - val_accuracy: 0.8354\n",
      "Epoch 6/20\n",
      "7109/7109 [==============================] - 1s 74us/step - loss: 0.6160 - accuracy: 0.8488 - val_loss: 0.5995 - val_accuracy: 0.8354\n",
      "Epoch 7/20\n",
      "7109/7109 [==============================] - 1s 74us/step - loss: 0.5896 - accuracy: 0.8488 - val_loss: 0.5691 - val_accuracy: 0.8354\n",
      "Epoch 8/20\n",
      "7109/7109 [==============================] - 1s 76us/step - loss: 0.5568 - accuracy: 0.8488 - val_loss: 0.5313 - val_accuracy: 0.8354\n",
      "Epoch 9/20\n",
      "7109/7109 [==============================] - 1s 76us/step - loss: 0.5161 - accuracy: 0.8488 - val_loss: 0.4849 - val_accuracy: 0.8354\n",
      "Epoch 10/20\n",
      "7109/7109 [==============================] - 1s 75us/step - loss: 0.4648 - accuracy: 0.8488 - val_loss: 0.4314 - val_accuracy: 0.8354\n",
      "Epoch 11/20\n",
      "7109/7109 [==============================] - 1s 70us/step - loss: 0.4086 - accuracy: 0.8488 - val_loss: 0.3813 - val_accuracy: 0.8354\n",
      "Epoch 12/20\n",
      "7109/7109 [==============================] - 1s 74us/step - loss: 0.3608 - accuracy: 0.8488 - val_loss: 0.3770 - val_accuracy: 0.8354\n",
      "Epoch 13/20\n",
      "7109/7109 [==============================] - 1s 76us/step - loss: 0.3597 - accuracy: 0.8488 - val_loss: 0.4090 - val_accuracy: 0.8354\n",
      "Wall time: 8.14 s\n"
     ]
    }
   ],
   "source": [
    "%%time\n",
    "\n",
    "early_stopping=EarlyStopping(monitor='val_loss')  \n",
    "\n",
    "\n",
    "history = model.fit(X_train, y_train,\n",
    "                    batch_size=batch_size,\n",
    "                    epochs=epochs,\n",
    "                    verbose=1,\n",
    "                    validation_split=0.1,\n",
    "                    callbacks=[early_stopping])"
   ]
  },
  {
   "cell_type": "code",
   "execution_count": 19,
   "metadata": {},
   "outputs": [
    {
     "name": "stdout",
     "output_type": "stream",
     "text": [
      "5924/5924 [==============================] - 0s 60us/step\n",
      "\n",
      "\n",
      "Test score: 0.38780353922122723\n",
      "Test accuracy: 0.8440243005752563\n"
     ]
    }
   ],
   "source": [
    "score = model.evaluate(X_valid, y_val, batch_size=512, verbose=1)\n",
    "print('\\n')\n",
    "print('Test score:', score[0])\n",
    "print('Test accuracy:', score[1])"
   ]
  },
  {
   "cell_type": "code",
   "execution_count": 20,
   "metadata": {},
   "outputs": [
    {
     "name": "stdout",
     "output_type": "stream",
     "text": [
      "Test score: 0.901\n"
     ]
    }
   ],
   "source": [
    "res = model.predict(X_test)\n",
    "print(f'Test score: {round(roc_auc_score(y_test, res),3)}')"
   ]
  },
  {
   "cell_type": "code",
   "execution_count": 21,
   "metadata": {},
   "outputs": [
    {
     "data": {
      "image/png": "[encoded data removed]",
      "text/plain": [
       "<Figure size 1152x288 with 2 Axes>"
      ]
     },
     "metadata": {
      "needs_background": "light"
     },
     "output_type": "display_data"
    }
   ],
   "source": [
    "plot_history(history)"
   ]
  },
  {
   "cell_type": "markdown",
   "metadata": {},
   "source": [
    "**Результаты сравнения моделей при прочих равных условиях**\n",
    "\n",
    "| Model Type   | Training Time | Epochs to converge | Test Score |\n",
    "| ----------   | ------------- | ------------------ | ---------- |\n",
    "|**SimpleRNN** | 2.68 s        | 5                  | **0.886**  |\n",
    "|**LSTM**      | 5.53 s        | 8                  | **0.886**  |\n",
    "|**GRU**       | 8.14 s        | 13                 | **0.901**  |"
   ]
  },
  {
   "cell_type": "code",
   "execution_count": null,
   "metadata": {},
   "outputs": [],
   "source": []
  }
 ],
 "metadata": {
  "kernelspec": {
   "display_name": "Python 3",
   "language": "python",
   "name": "python3"
  },
  "language_info": {
   "codemirror_mode": {
    "name": "ipython",
    "version": 3
   },
   "file_extension": ".py",
   "mimetype": "text/x-python",
   "name": "python",
   "nbconvert_exporter": "python",
   "pygments_lexer": "ipython3",
   "version": "3.7.6"
  }
 },
 "nbformat": 4,
 "nbformat_minor": 4
}
