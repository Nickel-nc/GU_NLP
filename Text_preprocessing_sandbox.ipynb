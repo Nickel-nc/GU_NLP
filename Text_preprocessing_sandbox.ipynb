{
 "cells": [
  {
   "cell_type": "markdown",
   "metadata": {},
   "source": [
    "# Text Preprocessing"
   ]
  },
  {
   "cell_type": "code",
   "execution_count": 90,
   "metadata": {},
   "outputs": [],
   "source": [
    "#############\n",
    "# Import libs\n",
    "#############\n",
    "\n",
    "import numpy as np\n",
    "import re\n",
    "from matplotlib import pyplot as plt\n",
    "from collections import Counter\n",
    "import nltk\n",
    "from nltk.tokenize import casual_tokenize, RegexpTokenizer, TreebankWordTokenizer\n",
    "from nltk.util import ngrams\n",
    "import pandas as pd\n",
    "import math"
   ]
  },
  {
   "cell_type": "code",
   "execution_count": 18,
   "metadata": {},
   "outputs": [],
   "source": [
    "###########\n",
    "# Settings & constants\n",
    "###########\n",
    "\n",
    "en_text_sample = \"data/test.txt\"\n",
    "ru_text_sample = \"data/rutest.txt\""
   ]
  },
  {
   "cell_type": "code",
   "execution_count": 91,
   "metadata": {},
   "outputs": [],
   "source": [
    "\"\"\"Preprocess routine from text\"\"\"\n",
    "\n",
    "# Preprocess:\n",
    "# read -> decode - > decapitalize -> strip service symbols\n",
    "# tokenize (word, char)\n",
    "# create vocab\n",
    "\n",
    "\n",
    "def read_text(filepath):\n",
    "    \n",
    "    with open(filepath, 'rb') as fp:\n",
    "        lines = []\n",
    "        for line in fp:\n",
    "            line = line.strip().lower().decode(\"ascii\", \"ignore\")\n",
    "            if len(line) == 0:\n",
    "                continue\n",
    "            lines.append(line)\n",
    "    text = \" \".join(lines)\n",
    "    return text\n",
    "\n",
    "\n",
    "def get_tokens(text):\n",
    "    pattern = re.compile(r'[-\\s.,:!?]+')\n",
    "    tokens = pattern.split(text)\n",
    "    return tokens\n",
    "\n",
    "\n",
    "def filter_tokens(tokens):\n",
    "    tokens = [x for x in tokens if x and x not in '-\\t\\n.,;!?\\'']\n",
    "    return tokens\n",
    "\n",
    "\n",
    "\n",
    "def get_dicts(words):\n",
    "    word2index = {w: i for i, w in enumerate(words)}\n",
    "    index2word = {i: w for i, w in enumerate(words)}    \n",
    "    return word2index, index2word\n",
    "    \n",
    "\n",
    "def process_tokens(text):\n",
    "    return Counter(text.split())\n",
    "    \n",
    "\n",
    "def preprocess(filepath):\n",
    "    text = read_text(filepath)\n",
    "    tokens = get_tokens(text)\n",
    "    tokens = filter_tokens(tokens)\n",
    "    word2index, index2word = get_dicts(tokens)\n",
    "    countered_tokens = process_tokens(text)\n",
    "    return word2index, index2word, countered_tokens\n",
    "\n",
    "\n",
    "def get_bow(tokens, most_common=0):\n",
    "    bag_of_words = Counter(tokens)\n",
    "    if most_common:\n",
    "        bag_of_words = bag_of_words.most_common(most_common)\n",
    "    return bag_of_words\n",
    "\n",
    "\n",
    "def calc_cos_sim(vec1, vec2):\n",
    "    \n",
    "    \"\"\"\n",
    "    Calculates cosine distance similarity.\n",
    "    Input: vec1, vec2: pd.Series\n",
    "    \"\"\"\n",
    "    \n",
    "    vec1 = [val for val in vec1.values()]\n",
    "    vec2 = [val for val in vec2.values()]\n",
    "    \n",
    "    dot_prod = 0\n",
    "    for i, v in enumarate(vec1):\n",
    "        dot_prod += v * vec2[i]\n",
    "        \n",
    "    mag_1 = math.sqrt(sum([x**2 for x in vec1]))\n",
    "    mag_2 = math.sqrt(sum([x**2 for x in vec2]))\n",
    "    \n",
    "    return dot_prod / (mag_1 * mag_2)"
   ]
  },
  {
   "cell_type": "code",
   "execution_count": 39,
   "metadata": {},
   "outputs": [],
   "source": [
    "text = read_text(en_text_sample) # Deploy text\n",
    "ru_text = read_text(ru_text_sample)"
   ]
  },
  {
   "cell_type": "code",
   "execution_count": 41,
   "metadata": {},
   "outputs": [],
   "source": [
    "word2index, index2word, bag_of_words = preprocess(en_text_sample)"
   ]
  },
  {
   "cell_type": "code",
   "execution_count": 42,
   "metadata": {
    "scrolled": false
   },
   "outputs": [
    {
     "data": {
      "text/plain": [
       "{1: 'one',\n",
       " 2: 'down',\n",
       " 3: 'the',\n",
       " 4: 'rabbit',\n",
       " 5: 'hole',\n",
       " 6: 'alice',\n",
       " 7: 'and',\n",
       " 8: 'her',\n",
       " 9: 'big'}"
      ]
     },
     "execution_count": 42,
     "metadata": {},
     "output_type": "execute_result"
    }
   ],
   "source": [
    "{k:index2word[k] for k in np.arange(1,10) if k in index2word}"
   ]
  },
  {
   "cell_type": "code",
   "execution_count": 43,
   "metadata": {},
   "outputs": [],
   "source": [
    "def one_hot_vectorizer(sequence):\n",
    "    \n",
    "    \"\"\"One-hot vectorizer\"\"\"\n",
    "    \n",
    "    token_sequence = str.split(sequence)\n",
    "    vocab = sorted(set(token_sequence))\n",
    "    vocab_size = len(vocab)\n",
    "    num_tokens = len(token_sequence)\n",
    "    onehot_vectors = np.zeros((num_tokens, vocab_size))\n",
    "    \n",
    "    for i, word in enumerate(token_sequence):\n",
    "        onehot_vectors[i, vocab.index(word)] = 1\n",
    "    \n",
    "    print(f\"Perform one-hot vectorize...\\n processed tokens: {num_tokens}\\n vocabulary size: {vocab_size}\")\n",
    "    return onehot_vectors"
   ]
  },
  {
   "cell_type": "code",
   "execution_count": 44,
   "metadata": {},
   "outputs": [
    {
     "name": "stdout",
     "output_type": "stream",
     "text": [
      "Perform one-hot vectorize...\n",
      " processed tokens: 7690\n",
      " vocabulary size: 1454\n"
     ]
    },
    {
     "data": {
      "text/plain": [
       "array([[0., 0., 0., ..., 0., 0., 0.],\n",
       "       [0., 0., 0., ..., 0., 0., 0.],\n",
       "       [0., 0., 0., ..., 0., 0., 0.],\n",
       "       ...,\n",
       "       [0., 0., 0., ..., 0., 0., 0.],\n",
       "       [0., 0., 0., ..., 0., 0., 0.],\n",
       "       [0., 0., 0., ..., 0., 0., 0.]])"
      ]
     },
     "execution_count": 44,
     "metadata": {},
     "output_type": "execute_result"
    }
   ],
   "source": [
    "wv = one_hot_vectorizer(text)\n",
    "wv"
   ]
  },
  {
   "cell_type": "code",
   "execution_count": 67,
   "metadata": {},
   "outputs": [
    {
     "name": "stdout",
     "output_type": "stream",
     "text": [
      "Custom tokens 8126 -> 7677\n",
      "['tea', 'cried', 'alice', 'and', 'she', 'got', 'up', 'and', 'ran', 'home']\n",
      "\n",
      "NLTK casual tokens 10237:\n",
      "['alice', '.', 'and', 'she', 'got', 'up', 'and', 'ran', 'home', '.']\n",
      "\n",
      "NLTK regexp tokens 8005:\n",
      "['tea', 'cried', 'alice', 'and', 'she', 'got', 'up', 'and', 'ran', 'home']\n",
      "\n",
      "NLTK Treebank tokens 9331:\n",
      "['cried', 'alice.', 'and', 'she', 'got', 'up', 'and', 'ran', 'home', '.']\n"
     ]
    }
   ],
   "source": [
    "custom_tokens = get_tokens(text)\n",
    "filtered_tokens = filter_tokens(custom_tokens)\n",
    "\n",
    "nltk_tokens = casual_tokenize(text)\n",
    "regexp_tokens = RegexpTokenizer(r'\\w+|$[0-9.]+\\S+').tokenize(text)\n",
    "treebank_tokens = TreebankWordTokenizer().tokenize(text)\n",
    "\n",
    "print(f\"Custom tokens {len(custom_tokens)} -> {len(filtered_tokens)}\\n{list(filtered_tokens)[-10:]}\\n\")\n",
    "print(f\"NLTK casual tokens {len(nltk_tokens)}:\\n{nltk_tokens[-10:]}\\n\")\n",
    "print(f\"NLTK regexp tokens {len(regexp_tokens)}:\\n{regexp_tokens[-10:]}\\n\")\n",
    "print(f\"NLTK Treebank tokens {len(treebank_tokens)}:\\n{treebank_tokens[-10:]}\")"
   ]
  },
  {
   "cell_type": "markdown",
   "metadata": {},
   "source": [
    "### Re phrase processors "
   ]
  },
  {
   "cell_type": "code",
   "execution_count": null,
   "metadata": {},
   "outputs": [],
   "source": [
    "def preprocess_string(string):\n",
    "    res = string.lower().decode(\"ascii\", \"ignore\") \n",
    "    return res\n",
    "\n",
    "\n",
    "def re_greet_detector(string):\n",
    "    r = r\"[^a-z]*([y]o|[h']?ello|ok|hey|(good[ ])?(morn[gin']{0,3}}\"\\\n",
    "             r\"afternoon|even[gin']{0,3}))[\\s,;:]{1,3}([a-z]{1,20})\"\n",
    "    res = re.compile(r, flags=re.IGNORECASE)\n",
    "    res = res.match(string)\n",
    "    return res"
   ]
  },
  {
   "cell_type": "markdown",
   "metadata": {},
   "source": [
    "### Stop words"
   ]
  },
  {
   "cell_type": "code",
   "execution_count": 76,
   "metadata": {},
   "outputs": [
    {
     "name": "stderr",
     "output_type": "stream",
     "text": [
      "[nltk_data] Downloading package stopwords to\n",
      "[nltk_data]     C:\\Users\\Nickel\\AppData\\Roaming\\nltk_data...\n",
      "[nltk_data]   Package stopwords is already up-to-date!\n"
     ]
    },
    {
     "data": {
      "text/plain": [
       "True"
      ]
     },
     "execution_count": 76,
     "metadata": {},
     "output_type": "execute_result"
    }
   ],
   "source": [
    "from sklearn.feature_extraction.text import ENGLISH_STOP_WORDS as sklearn_stop_words\n",
    "nltk.download('stopwords')\n",
    "nltk_stop_words = nltk.corpus.stopwords.words('english')"
   ]
  },
  {
   "cell_type": "code",
   "execution_count": 81,
   "metadata": {},
   "outputs": [
    {
     "data": {
      "text/plain": [
       "(318, 179)"
      ]
     },
     "execution_count": 81,
     "metadata": {},
     "output_type": "execute_result"
    }
   ],
   "source": [
    "len(sklearn_stop_words), len(nltk_stop_words)"
   ]
  },
  {
   "cell_type": "markdown",
   "metadata": {},
   "source": [
    "### lemmatize"
   ]
  },
  {
   "cell_type": "code",
   "execution_count": 82,
   "metadata": {},
   "outputs": [
    {
     "name": "stderr",
     "output_type": "stream",
     "text": [
      "[nltk_data] Downloading package wordnet to\n",
      "[nltk_data]     C:\\Users\\Nickel\\AppData\\Roaming\\nltk_data...\n",
      "[nltk_data]   Unzipping corpora\\wordnet.zip.\n"
     ]
    },
    {
     "data": {
      "text/plain": [
       "True"
      ]
     },
     "execution_count": 82,
     "metadata": {},
     "output_type": "execute_result"
    }
   ],
   "source": [
    "nltk.download('wordnet')\n",
    "from nltk.stem import WordNetLemmatizer"
   ]
  },
  {
   "cell_type": "code",
   "execution_count": 89,
   "metadata": {},
   "outputs": [
    {
     "data": {
      "text/plain": [
       "'good'"
      ]
     },
     "execution_count": 89,
     "metadata": {},
     "output_type": "execute_result"
    }
   ],
   "source": [
    "lemmatizer = WordNetLemmatizer()\n",
    "lemmatizer.lemmatize('better', pos=\"a\")  # a - adjective"
   ]
  },
  {
   "cell_type": "code",
   "execution_count": null,
   "metadata": {},
   "outputs": [],
   "source": []
  }
 ],
 "metadata": {
  "kernelspec": {
   "display_name": "Python 3",
   "language": "python",
   "name": "python3"
  },
  "language_info": {
   "codemirror_mode": {
    "name": "ipython",
    "version": 3
   },
   "file_extension": ".py",
   "mimetype": "text/x-python",
   "name": "python",
   "nbconvert_exporter": "python",
   "pygments_lexer": "ipython3",
   "version": "3.7.6"
  }
 },
 "nbformat": 4,
 "nbformat_minor": 4
}
