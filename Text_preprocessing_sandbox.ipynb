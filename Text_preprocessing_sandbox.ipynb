{
 "cells": [
  {
   "cell_type": "markdown",
   "metadata": {},
   "source": [
    "# Text Preprocessing"
   ]
  },
  {
   "cell_type": "code",
   "execution_count": 42,
   "metadata": {},
   "outputs": [],
   "source": [
    "#############\n",
    "# Import libs\n",
    "#############\n",
    "\n",
    "import numpy as np\n",
    "import re\n",
    "from matplotlib import pyplot as plt\n",
    "from collections import Counter\n",
    "from nltk.tokenize import casual_tokenize"
   ]
  },
  {
   "cell_type": "code",
   "execution_count": 67,
   "metadata": {},
   "outputs": [],
   "source": [
    "###########\n",
    "# Settings & constants\n",
    "###########\n",
    "\n",
    "en_text_sample = \"data/test.txt\"\n",
    "ru_text_sample = \"data/rutest.txt\""
   ]
  },
  {
   "cell_type": "code",
   "execution_count": 74,
   "metadata": {},
   "outputs": [],
   "source": [
    "\"\"\"Preprocess routine from text\"\"\"\n",
    "\n",
    "# Preprocess:\n",
    "# read -> decode - > decapitalize -> strip service symbols\n",
    "# tokenize (word, char)\n",
    "# create vocab\n",
    "\n",
    "\n",
    "def read_text(filepath):\n",
    "    \n",
    "    with open(filepath, 'rb') as fp:\n",
    "        lines = []\n",
    "        for line in fp:\n",
    "            line = line.strip().lower().decode(\"ascii\", \"ignore\")\n",
    "            if len(line) == 0:\n",
    "                continue\n",
    "            lines.append(line)\n",
    "    text = \" \".join(lines)\n",
    "    return text\n",
    "\n",
    "\n",
    "def get_tokens(text):    \n",
    "    return set(text.split())\n",
    "\n",
    "\n",
    "def get_dicts(words):\n",
    "    word2index = {w: i for i, w in enumerate(words)}\n",
    "    index2word = {i: w for i, w in enumerate(words)}    \n",
    "    return word2index, index2word\n",
    "    \n",
    "\n",
    "def process_tokens(text):\n",
    "    return Counter(text.split())\n",
    "    \n",
    "\n",
    "def preprocess(filepath):\n",
    "    text = read_text(filepath)\n",
    "    tokens = get_tokens(text)\n",
    "    word2index, index2word = get_dicts(tokens)\n",
    "    countered_tokens = process_tokens(text)\n",
    "    return word2index, index2word, countered_tokens\n",
    "\n",
    "\n",
    "def n_gram_tokenize(text):\n",
    "    pass\n",
    "\n",
    "\n",
    "def clear_punctuation(text):\n",
    "    pass\n",
    "\n",
    "\n"
   ]
  },
  {
   "cell_type": "code",
   "execution_count": 75,
   "metadata": {},
   "outputs": [],
   "source": [
    "text = read_text(en_text_sample) # Deploy text"
   ]
  },
  {
   "cell_type": "code",
   "execution_count": 76,
   "metadata": {},
   "outputs": [],
   "source": [
    "word2index, index2word, bag_of_words = preprocess(en_text_sample)"
   ]
  },
  {
   "cell_type": "code",
   "execution_count": 78,
   "metadata": {
    "scrolled": false
   },
   "outputs": [
    {
     "data": {
      "text/plain": [
       "{1: 'waited',\n",
       " 2: 'dinah.',\n",
       " 3: 'hurting',\n",
       " 4: 'ears',\n",
       " 5: \"cry!'\",\n",
       " 6: 'man',\n",
       " 7: 'sadly,',\n",
       " 8: 'understand',\n",
       " 9: 'cake?'}"
      ]
     },
     "execution_count": 78,
     "metadata": {},
     "output_type": "execute_result"
    }
   ],
   "source": [
    "{k:index2word[k] for k in np.arange(1,10) if k in index2word}"
   ]
  },
  {
   "cell_type": "code",
   "execution_count": 24,
   "metadata": {},
   "outputs": [],
   "source": [
    "def one_hot_vectorizer(sequence):\n",
    "    \n",
    "    \"\"\"One-hot vectorizer\"\"\"\n",
    "    \n",
    "    token_sequence = str.split(sequence)\n",
    "    vocab = sorted(set(token_sequence))\n",
    "    vocab_size = len(vocab)\n",
    "    num_tokens = len(token_sequence)\n",
    "    onehot_vectors = np.zeros((num_tokens, vocab_size))\n",
    "    \n",
    "    for i, word in enumerate(token_sequence):\n",
    "        onehot_vectors[i, vocab.index(word)] = 1\n",
    "    \n",
    "    print(f\"Perform one-hot vectorize...\\n processed tokens: {num_tokens}\\n vocabulary size: {vocab_size}\")\n",
    "    return onehot_vectors"
   ]
  },
  {
   "cell_type": "code",
   "execution_count": 33,
   "metadata": {},
   "outputs": [
    {
     "name": "stdout",
     "output_type": "stream",
     "text": [
      "Perform one-hot vectorize...\n",
      " processed tokens: 7690\n",
      " vocabulary size: 1454\n"
     ]
    },
    {
     "data": {
      "text/plain": [
       "array([[0., 0., 0., ..., 0., 0., 0.],\n",
       "       [0., 0., 0., ..., 0., 0., 0.],\n",
       "       [0., 0., 0., ..., 0., 0., 0.],\n",
       "       ...,\n",
       "       [0., 0., 0., ..., 0., 0., 0.],\n",
       "       [0., 0., 0., ..., 0., 0., 0.],\n",
       "       [0., 0., 0., ..., 0., 0., 0.]])"
      ]
     },
     "execution_count": 33,
     "metadata": {},
     "output_type": "execute_result"
    }
   ],
   "source": [
    "wv = one_hot_vectorizer(text)\n",
    "wv"
   ]
  },
  {
   "cell_type": "code",
   "execution_count": 89,
   "metadata": {},
   "outputs": [
    {
     "name": "stdout",
     "output_type": "stream",
     "text": [
      "Simple tokens:\n",
      " [\"'they're\", 'hands', 'finish', 'site', 'father', 'schoolbook,', 'than', \"any,'\", \"understand,'\", \"know?'\"]\n",
      "\n",
      "nltk_tokens:\n",
      " ['alice', '.', 'and', 'she', 'got', 'up', 'and', 'ran', 'home', '.']\n"
     ]
    }
   ],
   "source": [
    "simple_tokens = get_tokens(text)\n",
    "nltk_tokens = casual_tokenize(text)\n",
    "\n",
    "print(f\"Simple tokens:\\n {list(simple_tokens)[-10:]}\\n\\nnltk_tokens:\\n {nltk_tokens[-10:]}\")"
   ]
  },
  {
   "cell_type": "code",
   "execution_count": null,
   "metadata": {},
   "outputs": [],
   "source": []
  },
  {
   "cell_type": "code",
   "execution_count": null,
   "metadata": {},
   "outputs": [],
   "source": []
  },
  {
   "cell_type": "markdown",
   "metadata": {},
   "source": [
    "### Regex phrase processors :"
   ]
  },
  {
   "cell_type": "code",
   "execution_count": null,
   "metadata": {},
   "outputs": [],
   "source": [
    "def preprocess_string(string):\n",
    "    res = string.lower().decode(\"ascii\", \"ignore\") \n",
    "    return res\n",
    "\n",
    "\n",
    "def re_greet_detector(string):\n",
    "    r = r\"[^a-z]*([y]o|[h']?ello|ok|hey|(good[ ])?(morn[gin']{0,3}}\"\\\n",
    "             r\"afternoon|even[gin']{0,3}))[\\s,;:]{1,3}([a-z]{1,20})\"\n",
    "    res = re.compile(r, flags=re.IGNORECASE)\n",
    "    res = res.match(string)\n",
    "    return res"
   ]
  },
  {
   "cell_type": "code",
   "execution_count": null,
   "metadata": {},
   "outputs": [],
   "source": []
  }
 ],
 "metadata": {
  "kernelspec": {
   "display_name": "Python 3",
   "language": "python",
   "name": "python3"
  },
  "language_info": {
   "codemirror_mode": {
    "name": "ipython",
    "version": 3
   },
   "file_extension": ".py",
   "mimetype": "text/x-python",
   "name": "python",
   "nbconvert_exporter": "python",
   "pygments_lexer": "ipython3",
   "version": "3.7.6"
  }
 },
 "nbformat": 4,
 "nbformat_minor": 4
}
